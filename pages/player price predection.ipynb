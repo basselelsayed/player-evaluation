{
 "cells": [
  {
   "attachments": {},
   "cell_type": "markdown",
   "metadata": {},
   "source": [
    "# importing libraries"
   ]
  },
  {
   "cell_type": "code",
   "execution_count": 1,
   "metadata": {},
   "outputs": [],
   "source": [
    "### https://www.goal.com/en/news/fifa-player-ratings-explained-how-are-the-card-number--stats-decided/1hszd2fgr7wgf1n2b2yjdpgynu  ___fifa link introduce how atributes of players taken ###"
   ]
  },
  {
   "cell_type": "code",
   "execution_count": 2,
   "metadata": {},
   "outputs": [],
   "source": [
    "import pandas as pd\n",
    "import numpy as px\n",
    "import plotly.express as px\n",
    "from sklearn.model_selection import train_test_split\n",
    "from sklearn.preprocessing import PolynomialFeatures\n",
    "from sklearn.linear_model import LinearRegression\n",
    "from sklearn.linear_model import Ridge\n",
    "from sklearn.linear_model import Lasso\n",
    "from category_encoders import BinaryEncoder\n",
    "from sklearn.preprocessing import StandardScaler, MinMaxScaler, RobustScaler, OrdinalEncoder\n",
    "from sklearn.metrics import mean_squared_error\n",
    "from sklearn.linear_model import LogisticRegression\n"
   ]
  },
  {
   "attachments": {},
   "cell_type": "markdown",
   "metadata": {},
   "source": [
    "# Read data "
   ]
  },
  {
   "cell_type": "code",
   "execution_count": 3,
   "metadata": {},
   "outputs": [
    {
     "name": "stderr",
     "output_type": "stream",
     "text": [
      "C:\\Users\\HP.SXS04\\AppData\\Local\\Temp\\ipykernel_1344\\3321822958.py:1: DtypeWarning: Columns (104) have mixed types. Specify dtype option on import or set low_memory=False.\n",
      "  df15 = pd.read_csv(\"F:\\AI corse\\\\final project\\sources\\players_15.csv\")\n"
     ]
    }
   ],
   "source": [
    "df15 = pd.read_csv(\"F:\\AI corse\\\\final project\\sources\\players_15.csv\")"
   ]
  },
  {
   "cell_type": "code",
   "execution_count": 4,
   "metadata": {},
   "outputs": [
    {
     "name": "stderr",
     "output_type": "stream",
     "text": [
      "C:\\Users\\HP.SXS04\\AppData\\Local\\Temp\\ipykernel_1344\\1907900780.py:1: DtypeWarning: Columns (104) have mixed types. Specify dtype option on import or set low_memory=False.\n",
      "  df16 = pd.read_csv(\"F:\\AI corse\\\\final project\\sources\\players_16.csv\")\n"
     ]
    }
   ],
   "source": [
    "df16 = pd.read_csv(\"F:\\AI corse\\\\final project\\sources\\players_16.csv\")"
   ]
  },
  {
   "cell_type": "code",
   "execution_count": 5,
   "metadata": {},
   "outputs": [],
   "source": [
    "df17 = pd.read_csv(\"F:\\AI corse\\\\final project\\sources\\players_17.csv\")"
   ]
  },
  {
   "cell_type": "code",
   "execution_count": 6,
   "metadata": {},
   "outputs": [
    {
     "name": "stderr",
     "output_type": "stream",
     "text": [
      "C:\\Users\\HP.SXS04\\AppData\\Local\\Temp\\ipykernel_1344\\270566522.py:1: DtypeWarning: Columns (81,82,83,84,85) have mixed types. Specify dtype option on import or set low_memory=False.\n",
      "  df18 = pd.read_csv(\"F:\\AI corse\\\\final project\\sources\\players_18.csv\")\n"
     ]
    }
   ],
   "source": [
    "df18 = pd.read_csv(\"F:\\AI corse\\\\final project\\sources\\players_18.csv\")"
   ]
  },
  {
   "cell_type": "code",
   "execution_count": 7,
   "metadata": {},
   "outputs": [],
   "source": [
    "df19 = pd.read_csv(\"F:\\AI corse\\\\final project\\sources\\players_19.csv\")"
   ]
  },
  {
   "cell_type": "code",
   "execution_count": 8,
   "metadata": {},
   "outputs": [],
   "source": [
    "df20 = pd.read_csv(\"F:\\AI corse\\\\final project\\sources\\players_20.csv\")"
   ]
  },
  {
   "cell_type": "code",
   "execution_count": 9,
   "metadata": {},
   "outputs": [],
   "source": [
    "df21 = pd.read_csv(\"F:\\AI corse\\\\final project\\sources\\players_21.csv\")"
   ]
  },
  {
   "cell_type": "code",
   "execution_count": 10,
   "metadata": {},
   "outputs": [
    {
     "name": "stderr",
     "output_type": "stream",
     "text": [
      "C:\\Users\\HP.SXS04\\AppData\\Local\\Temp\\ipykernel_1344\\363958674.py:1: DtypeWarning: Columns (25,108) have mixed types. Specify dtype option on import or set low_memory=False.\n",
      "  df22 = pd.read_csv(\"F:\\AI corse\\\\final project\\sources\\players_22.csv\")\n"
     ]
    }
   ],
   "source": [
    "df22 = pd.read_csv(\"F:\\AI corse\\\\final project\\sources\\players_22.csv\")"
   ]
  },
  {
   "attachments": {},
   "cell_type": "markdown",
   "metadata": {},
   "source": [
    "# Compine the data"
   ]
  },
  {
   "cell_type": "code",
   "execution_count": 11,
   "metadata": {},
   "outputs": [],
   "source": [
    "df =pd.concat([df15,df16,df17,df18,df19,df20,df21,df22])"
   ]
  },
  {
   "cell_type": "code",
   "execution_count": 12,
   "metadata": {},
   "outputs": [
    {
     "data": {
      "text/plain": [
       "(142079, 110)"
      ]
     },
     "execution_count": 12,
     "metadata": {},
     "output_type": "execute_result"
    }
   ],
   "source": [
    "df.shape"
   ]
  },
  {
   "cell_type": "code",
   "execution_count": 13,
   "metadata": {},
   "outputs": [],
   "source": [
    "df.reset_index(inplace =True)"
   ]
  },
  {
   "cell_type": "code",
   "execution_count": 14,
   "metadata": {},
   "outputs": [],
   "source": [
    "df.drop('index' , axis = 1 , inplace= True)"
   ]
  },
  {
   "attachments": {},
   "cell_type": "markdown",
   "metadata": {},
   "source": [
    "# Data summary report "
   ]
  },
  {
   "cell_type": "code",
   "execution_count": null,
   "metadata": {},
   "outputs": [],
   "source": []
  },
  {
   "attachments": {},
   "cell_type": "markdown",
   "metadata": {},
   "source": [
    "# Data first look"
   ]
  },
  {
   "cell_type": "code",
   "execution_count": 15,
   "metadata": {},
   "outputs": [
    {
     "data": {
      "text/html": [
       "<div>\n",
       "<style scoped>\n",
       "    .dataframe tbody tr th:only-of-type {\n",
       "        vertical-align: middle;\n",
       "    }\n",
       "\n",
       "    .dataframe tbody tr th {\n",
       "        vertical-align: top;\n",
       "    }\n",
       "\n",
       "    .dataframe thead th {\n",
       "        text-align: right;\n",
       "    }\n",
       "</style>\n",
       "<table border=\"1\" class=\"dataframe\">\n",
       "  <thead>\n",
       "    <tr style=\"text-align: right;\">\n",
       "      <th></th>\n",
       "      <th>sofifa_id</th>\n",
       "      <th>player_url</th>\n",
       "      <th>short_name</th>\n",
       "      <th>long_name</th>\n",
       "      <th>player_positions</th>\n",
       "      <th>overall</th>\n",
       "      <th>potential</th>\n",
       "      <th>value_eur</th>\n",
       "      <th>wage_eur</th>\n",
       "      <th>age</th>\n",
       "      <th>...</th>\n",
       "      <th>lcb</th>\n",
       "      <th>cb</th>\n",
       "      <th>rcb</th>\n",
       "      <th>rb</th>\n",
       "      <th>gk</th>\n",
       "      <th>player_face_url</th>\n",
       "      <th>club_logo_url</th>\n",
       "      <th>club_flag_url</th>\n",
       "      <th>nation_logo_url</th>\n",
       "      <th>nation_flag_url</th>\n",
       "    </tr>\n",
       "  </thead>\n",
       "  <tbody>\n",
       "    <tr>\n",
       "      <th>0</th>\n",
       "      <td>158023</td>\n",
       "      <td>https://sofifa.com/player/158023/lionel-messi/...</td>\n",
       "      <td>L. Messi</td>\n",
       "      <td>Lionel Andrés Messi Cuccittini</td>\n",
       "      <td>CF</td>\n",
       "      <td>93</td>\n",
       "      <td>95</td>\n",
       "      <td>100500000.0</td>\n",
       "      <td>550000.0</td>\n",
       "      <td>27</td>\n",
       "      <td>...</td>\n",
       "      <td>45+3</td>\n",
       "      <td>45+3</td>\n",
       "      <td>45+3</td>\n",
       "      <td>54+3</td>\n",
       "      <td>15+3</td>\n",
       "      <td>https://cdn.sofifa.net/players/158/023/15_120.png</td>\n",
       "      <td>https://cdn.sofifa.net/teams/241/60.png</td>\n",
       "      <td>https://cdn.sofifa.net/flags/es.png</td>\n",
       "      <td>https://cdn.sofifa.net/teams/1369/60.png</td>\n",
       "      <td>https://cdn.sofifa.net/flags/ar.png</td>\n",
       "    </tr>\n",
       "    <tr>\n",
       "      <th>1</th>\n",
       "      <td>20801</td>\n",
       "      <td>https://sofifa.com/player/20801/c-ronaldo-dos-...</td>\n",
       "      <td>Cristiano Ronaldo</td>\n",
       "      <td>Cristiano Ronaldo dos Santos Aveiro</td>\n",
       "      <td>LW, LM</td>\n",
       "      <td>92</td>\n",
       "      <td>92</td>\n",
       "      <td>79000000.0</td>\n",
       "      <td>375000.0</td>\n",
       "      <td>29</td>\n",
       "      <td>...</td>\n",
       "      <td>52+3</td>\n",
       "      <td>52+3</td>\n",
       "      <td>52+3</td>\n",
       "      <td>57+3</td>\n",
       "      <td>16+3</td>\n",
       "      <td>https://cdn.sofifa.net/players/020/801/15_120.png</td>\n",
       "      <td>https://cdn.sofifa.net/teams/243/60.png</td>\n",
       "      <td>https://cdn.sofifa.net/flags/es.png</td>\n",
       "      <td>https://cdn.sofifa.net/teams/1354/60.png</td>\n",
       "      <td>https://cdn.sofifa.net/flags/pt.png</td>\n",
       "    </tr>\n",
       "    <tr>\n",
       "      <th>2</th>\n",
       "      <td>9014</td>\n",
       "      <td>https://sofifa.com/player/9014/arjen-robben/15...</td>\n",
       "      <td>A. Robben</td>\n",
       "      <td>Arjen Robben</td>\n",
       "      <td>RM, LM, RW</td>\n",
       "      <td>90</td>\n",
       "      <td>90</td>\n",
       "      <td>54500000.0</td>\n",
       "      <td>275000.0</td>\n",
       "      <td>30</td>\n",
       "      <td>...</td>\n",
       "      <td>46+3</td>\n",
       "      <td>46+3</td>\n",
       "      <td>46+3</td>\n",
       "      <td>55+3</td>\n",
       "      <td>14+3</td>\n",
       "      <td>https://cdn.sofifa.net/players/009/014/15_120.png</td>\n",
       "      <td>https://cdn.sofifa.net/teams/21/60.png</td>\n",
       "      <td>https://cdn.sofifa.net/flags/de.png</td>\n",
       "      <td>https://cdn.sofifa.net/teams/105035/60.png</td>\n",
       "      <td>https://cdn.sofifa.net/flags/nl.png</td>\n",
       "    </tr>\n",
       "    <tr>\n",
       "      <th>3</th>\n",
       "      <td>41236</td>\n",
       "      <td>https://sofifa.com/player/41236/zlatan-ibrahim...</td>\n",
       "      <td>Z. Ibrahimović</td>\n",
       "      <td>Zlatan Ibrahimović</td>\n",
       "      <td>ST</td>\n",
       "      <td>90</td>\n",
       "      <td>90</td>\n",
       "      <td>52500000.0</td>\n",
       "      <td>275000.0</td>\n",
       "      <td>32</td>\n",
       "      <td>...</td>\n",
       "      <td>55+3</td>\n",
       "      <td>55+3</td>\n",
       "      <td>55+3</td>\n",
       "      <td>56+3</td>\n",
       "      <td>17+3</td>\n",
       "      <td>https://cdn.sofifa.net/players/041/236/15_120.png</td>\n",
       "      <td>https://cdn.sofifa.net/teams/73/60.png</td>\n",
       "      <td>https://cdn.sofifa.net/flags/fr.png</td>\n",
       "      <td>https://cdn.sofifa.net/teams/1363/60.png</td>\n",
       "      <td>https://cdn.sofifa.net/flags/se.png</td>\n",
       "    </tr>\n",
       "    <tr>\n",
       "      <th>4</th>\n",
       "      <td>167495</td>\n",
       "      <td>https://sofifa.com/player/167495/manuel-neuer/...</td>\n",
       "      <td>M. Neuer</td>\n",
       "      <td>Manuel Peter Neuer</td>\n",
       "      <td>GK</td>\n",
       "      <td>90</td>\n",
       "      <td>90</td>\n",
       "      <td>63500000.0</td>\n",
       "      <td>300000.0</td>\n",
       "      <td>28</td>\n",
       "      <td>...</td>\n",
       "      <td>38+3</td>\n",
       "      <td>38+3</td>\n",
       "      <td>38+3</td>\n",
       "      <td>36+3</td>\n",
       "      <td>87+3</td>\n",
       "      <td>https://cdn.sofifa.net/players/167/495/15_120.png</td>\n",
       "      <td>https://cdn.sofifa.net/teams/21/60.png</td>\n",
       "      <td>https://cdn.sofifa.net/flags/de.png</td>\n",
       "      <td>https://cdn.sofifa.net/teams/1337/60.png</td>\n",
       "      <td>https://cdn.sofifa.net/flags/de.png</td>\n",
       "    </tr>\n",
       "    <tr>\n",
       "      <th>...</th>\n",
       "      <td>...</td>\n",
       "      <td>...</td>\n",
       "      <td>...</td>\n",
       "      <td>...</td>\n",
       "      <td>...</td>\n",
       "      <td>...</td>\n",
       "      <td>...</td>\n",
       "      <td>...</td>\n",
       "      <td>...</td>\n",
       "      <td>...</td>\n",
       "      <td>...</td>\n",
       "      <td>...</td>\n",
       "      <td>...</td>\n",
       "      <td>...</td>\n",
       "      <td>...</td>\n",
       "      <td>...</td>\n",
       "      <td>...</td>\n",
       "      <td>...</td>\n",
       "      <td>...</td>\n",
       "      <td>...</td>\n",
       "      <td>...</td>\n",
       "    </tr>\n",
       "    <tr>\n",
       "      <th>142074</th>\n",
       "      <td>261962</td>\n",
       "      <td>https://sofifa.com/player/261962/defu-song/220002</td>\n",
       "      <td>Song Defu</td>\n",
       "      <td>宋德福</td>\n",
       "      <td>CDM</td>\n",
       "      <td>47</td>\n",
       "      <td>52</td>\n",
       "      <td>70000.0</td>\n",
       "      <td>1000.0</td>\n",
       "      <td>22</td>\n",
       "      <td>...</td>\n",
       "      <td>46+2</td>\n",
       "      <td>46+2</td>\n",
       "      <td>46+2</td>\n",
       "      <td>48+2</td>\n",
       "      <td>15+2</td>\n",
       "      <td>https://cdn.sofifa.net/players/261/962/22_120.png</td>\n",
       "      <td>https://cdn.sofifa.net/teams/112541/60.png</td>\n",
       "      <td>https://cdn.sofifa.net/flags/cn.png</td>\n",
       "      <td>NaN</td>\n",
       "      <td>https://cdn.sofifa.net/flags/cn.png</td>\n",
       "    </tr>\n",
       "    <tr>\n",
       "      <th>142075</th>\n",
       "      <td>262040</td>\n",
       "      <td>https://sofifa.com/player/262040/caoimhin-port...</td>\n",
       "      <td>C. Porter</td>\n",
       "      <td>Caoimhin Porter</td>\n",
       "      <td>CM</td>\n",
       "      <td>47</td>\n",
       "      <td>59</td>\n",
       "      <td>110000.0</td>\n",
       "      <td>500.0</td>\n",
       "      <td>19</td>\n",
       "      <td>...</td>\n",
       "      <td>44+2</td>\n",
       "      <td>44+2</td>\n",
       "      <td>44+2</td>\n",
       "      <td>48+2</td>\n",
       "      <td>14+2</td>\n",
       "      <td>https://cdn.sofifa.net/players/262/040/22_120.png</td>\n",
       "      <td>https://cdn.sofifa.net/teams/445/60.png</td>\n",
       "      <td>https://cdn.sofifa.net/flags/ie.png</td>\n",
       "      <td>NaN</td>\n",
       "      <td>https://cdn.sofifa.net/flags/ie.png</td>\n",
       "    </tr>\n",
       "    <tr>\n",
       "      <th>142076</th>\n",
       "      <td>262760</td>\n",
       "      <td>https://sofifa.com/player/262760/nathan-logue/...</td>\n",
       "      <td>N. Logue</td>\n",
       "      <td>Nathan Logue-Cunningham</td>\n",
       "      <td>CM</td>\n",
       "      <td>47</td>\n",
       "      <td>55</td>\n",
       "      <td>100000.0</td>\n",
       "      <td>500.0</td>\n",
       "      <td>21</td>\n",
       "      <td>...</td>\n",
       "      <td>45+2</td>\n",
       "      <td>45+2</td>\n",
       "      <td>45+2</td>\n",
       "      <td>47+2</td>\n",
       "      <td>12+2</td>\n",
       "      <td>https://cdn.sofifa.net/players/262/760/22_120.png</td>\n",
       "      <td>https://cdn.sofifa.net/teams/111131/60.png</td>\n",
       "      <td>https://cdn.sofifa.net/flags/ie.png</td>\n",
       "      <td>NaN</td>\n",
       "      <td>https://cdn.sofifa.net/flags/ie.png</td>\n",
       "    </tr>\n",
       "    <tr>\n",
       "      <th>142077</th>\n",
       "      <td>262820</td>\n",
       "      <td>https://sofifa.com/player/262820/luke-rudden/2...</td>\n",
       "      <td>L. Rudden</td>\n",
       "      <td>Luke Rudden</td>\n",
       "      <td>ST</td>\n",
       "      <td>47</td>\n",
       "      <td>60</td>\n",
       "      <td>110000.0</td>\n",
       "      <td>500.0</td>\n",
       "      <td>19</td>\n",
       "      <td>...</td>\n",
       "      <td>26+2</td>\n",
       "      <td>26+2</td>\n",
       "      <td>26+2</td>\n",
       "      <td>32+2</td>\n",
       "      <td>15+2</td>\n",
       "      <td>https://cdn.sofifa.net/players/262/820/22_120.png</td>\n",
       "      <td>https://cdn.sofifa.net/teams/111131/60.png</td>\n",
       "      <td>https://cdn.sofifa.net/flags/ie.png</td>\n",
       "      <td>NaN</td>\n",
       "      <td>https://cdn.sofifa.net/flags/ie.png</td>\n",
       "    </tr>\n",
       "    <tr>\n",
       "      <th>142078</th>\n",
       "      <td>264540</td>\n",
       "      <td>https://sofifa.com/player/264540/emanuel-lalch...</td>\n",
       "      <td>E. Lalchhanchhuaha</td>\n",
       "      <td>Emanuel Lalchhanchhuaha</td>\n",
       "      <td>CAM</td>\n",
       "      <td>47</td>\n",
       "      <td>60</td>\n",
       "      <td>110000.0</td>\n",
       "      <td>500.0</td>\n",
       "      <td>19</td>\n",
       "      <td>...</td>\n",
       "      <td>41+2</td>\n",
       "      <td>41+2</td>\n",
       "      <td>41+2</td>\n",
       "      <td>45+2</td>\n",
       "      <td>16+2</td>\n",
       "      <td>https://cdn.sofifa.net/players/264/540/22_120.png</td>\n",
       "      <td>https://cdn.sofifa.net/teams/113040/60.png</td>\n",
       "      <td>https://cdn.sofifa.net/flags/in.png</td>\n",
       "      <td>NaN</td>\n",
       "      <td>https://cdn.sofifa.net/flags/in.png</td>\n",
       "    </tr>\n",
       "  </tbody>\n",
       "</table>\n",
       "<p>142079 rows × 110 columns</p>\n",
       "</div>"
      ],
      "text/plain": [
       "        sofifa_id                                         player_url  \\\n",
       "0          158023  https://sofifa.com/player/158023/lionel-messi/...   \n",
       "1           20801  https://sofifa.com/player/20801/c-ronaldo-dos-...   \n",
       "2            9014  https://sofifa.com/player/9014/arjen-robben/15...   \n",
       "3           41236  https://sofifa.com/player/41236/zlatan-ibrahim...   \n",
       "4          167495  https://sofifa.com/player/167495/manuel-neuer/...   \n",
       "...           ...                                                ...   \n",
       "142074     261962  https://sofifa.com/player/261962/defu-song/220002   \n",
       "142075     262040  https://sofifa.com/player/262040/caoimhin-port...   \n",
       "142076     262760  https://sofifa.com/player/262760/nathan-logue/...   \n",
       "142077     262820  https://sofifa.com/player/262820/luke-rudden/2...   \n",
       "142078     264540  https://sofifa.com/player/264540/emanuel-lalch...   \n",
       "\n",
       "                short_name                            long_name  \\\n",
       "0                 L. Messi       Lionel Andrés Messi Cuccittini   \n",
       "1        Cristiano Ronaldo  Cristiano Ronaldo dos Santos Aveiro   \n",
       "2                A. Robben                         Arjen Robben   \n",
       "3           Z. Ibrahimović                   Zlatan Ibrahimović   \n",
       "4                 M. Neuer                   Manuel Peter Neuer   \n",
       "...                    ...                                  ...   \n",
       "142074           Song Defu                                  宋德福   \n",
       "142075           C. Porter                      Caoimhin Porter   \n",
       "142076            N. Logue              Nathan Logue-Cunningham   \n",
       "142077           L. Rudden                          Luke Rudden   \n",
       "142078  E. Lalchhanchhuaha              Emanuel Lalchhanchhuaha   \n",
       "\n",
       "       player_positions  overall  potential    value_eur  wage_eur  age  ...  \\\n",
       "0                    CF       93         95  100500000.0  550000.0   27  ...   \n",
       "1                LW, LM       92         92   79000000.0  375000.0   29  ...   \n",
       "2            RM, LM, RW       90         90   54500000.0  275000.0   30  ...   \n",
       "3                    ST       90         90   52500000.0  275000.0   32  ...   \n",
       "4                    GK       90         90   63500000.0  300000.0   28  ...   \n",
       "...                 ...      ...        ...          ...       ...  ...  ...   \n",
       "142074              CDM       47         52      70000.0    1000.0   22  ...   \n",
       "142075               CM       47         59     110000.0     500.0   19  ...   \n",
       "142076               CM       47         55     100000.0     500.0   21  ...   \n",
       "142077               ST       47         60     110000.0     500.0   19  ...   \n",
       "142078              CAM       47         60     110000.0     500.0   19  ...   \n",
       "\n",
       "         lcb    cb   rcb    rb    gk  \\\n",
       "0       45+3  45+3  45+3  54+3  15+3   \n",
       "1       52+3  52+3  52+3  57+3  16+3   \n",
       "2       46+3  46+3  46+3  55+3  14+3   \n",
       "3       55+3  55+3  55+3  56+3  17+3   \n",
       "4       38+3  38+3  38+3  36+3  87+3   \n",
       "...      ...   ...   ...   ...   ...   \n",
       "142074  46+2  46+2  46+2  48+2  15+2   \n",
       "142075  44+2  44+2  44+2  48+2  14+2   \n",
       "142076  45+2  45+2  45+2  47+2  12+2   \n",
       "142077  26+2  26+2  26+2  32+2  15+2   \n",
       "142078  41+2  41+2  41+2  45+2  16+2   \n",
       "\n",
       "                                          player_face_url  \\\n",
       "0       https://cdn.sofifa.net/players/158/023/15_120.png   \n",
       "1       https://cdn.sofifa.net/players/020/801/15_120.png   \n",
       "2       https://cdn.sofifa.net/players/009/014/15_120.png   \n",
       "3       https://cdn.sofifa.net/players/041/236/15_120.png   \n",
       "4       https://cdn.sofifa.net/players/167/495/15_120.png   \n",
       "...                                                   ...   \n",
       "142074  https://cdn.sofifa.net/players/261/962/22_120.png   \n",
       "142075  https://cdn.sofifa.net/players/262/040/22_120.png   \n",
       "142076  https://cdn.sofifa.net/players/262/760/22_120.png   \n",
       "142077  https://cdn.sofifa.net/players/262/820/22_120.png   \n",
       "142078  https://cdn.sofifa.net/players/264/540/22_120.png   \n",
       "\n",
       "                                     club_logo_url  \\\n",
       "0          https://cdn.sofifa.net/teams/241/60.png   \n",
       "1          https://cdn.sofifa.net/teams/243/60.png   \n",
       "2           https://cdn.sofifa.net/teams/21/60.png   \n",
       "3           https://cdn.sofifa.net/teams/73/60.png   \n",
       "4           https://cdn.sofifa.net/teams/21/60.png   \n",
       "...                                            ...   \n",
       "142074  https://cdn.sofifa.net/teams/112541/60.png   \n",
       "142075     https://cdn.sofifa.net/teams/445/60.png   \n",
       "142076  https://cdn.sofifa.net/teams/111131/60.png   \n",
       "142077  https://cdn.sofifa.net/teams/111131/60.png   \n",
       "142078  https://cdn.sofifa.net/teams/113040/60.png   \n",
       "\n",
       "                              club_flag_url  \\\n",
       "0       https://cdn.sofifa.net/flags/es.png   \n",
       "1       https://cdn.sofifa.net/flags/es.png   \n",
       "2       https://cdn.sofifa.net/flags/de.png   \n",
       "3       https://cdn.sofifa.net/flags/fr.png   \n",
       "4       https://cdn.sofifa.net/flags/de.png   \n",
       "...                                     ...   \n",
       "142074  https://cdn.sofifa.net/flags/cn.png   \n",
       "142075  https://cdn.sofifa.net/flags/ie.png   \n",
       "142076  https://cdn.sofifa.net/flags/ie.png   \n",
       "142077  https://cdn.sofifa.net/flags/ie.png   \n",
       "142078  https://cdn.sofifa.net/flags/in.png   \n",
       "\n",
       "                                   nation_logo_url  \\\n",
       "0         https://cdn.sofifa.net/teams/1369/60.png   \n",
       "1         https://cdn.sofifa.net/teams/1354/60.png   \n",
       "2       https://cdn.sofifa.net/teams/105035/60.png   \n",
       "3         https://cdn.sofifa.net/teams/1363/60.png   \n",
       "4         https://cdn.sofifa.net/teams/1337/60.png   \n",
       "...                                            ...   \n",
       "142074                                         NaN   \n",
       "142075                                         NaN   \n",
       "142076                                         NaN   \n",
       "142077                                         NaN   \n",
       "142078                                         NaN   \n",
       "\n",
       "                            nation_flag_url  \n",
       "0       https://cdn.sofifa.net/flags/ar.png  \n",
       "1       https://cdn.sofifa.net/flags/pt.png  \n",
       "2       https://cdn.sofifa.net/flags/nl.png  \n",
       "3       https://cdn.sofifa.net/flags/se.png  \n",
       "4       https://cdn.sofifa.net/flags/de.png  \n",
       "...                                     ...  \n",
       "142074  https://cdn.sofifa.net/flags/cn.png  \n",
       "142075  https://cdn.sofifa.net/flags/ie.png  \n",
       "142076  https://cdn.sofifa.net/flags/ie.png  \n",
       "142077  https://cdn.sofifa.net/flags/ie.png  \n",
       "142078  https://cdn.sofifa.net/flags/in.png  \n",
       "\n",
       "[142079 rows x 110 columns]"
      ]
     },
     "execution_count": 15,
     "metadata": {},
     "output_type": "execute_result"
    }
   ],
   "source": [
    "df"
   ]
  },
  {
   "cell_type": "code",
   "execution_count": 16,
   "metadata": {},
   "outputs": [
    {
     "data": {
      "text/plain": [
       "Index(['sofifa_id', 'player_url', 'short_name', 'long_name',\n",
       "       'player_positions', 'overall', 'potential', 'value_eur', 'wage_eur',\n",
       "       'age',\n",
       "       ...\n",
       "       'lcb', 'cb', 'rcb', 'rb', 'gk', 'player_face_url', 'club_logo_url',\n",
       "       'club_flag_url', 'nation_logo_url', 'nation_flag_url'],\n",
       "      dtype='object', length=110)"
      ]
     },
     "execution_count": 16,
     "metadata": {},
     "output_type": "execute_result"
    }
   ],
   "source": [
    "df.columns"
   ]
  },
  {
   "cell_type": "code",
   "execution_count": 17,
   "metadata": {},
   "outputs": [
    {
     "data": {
      "text/html": [
       "<div>\n",
       "<style scoped>\n",
       "    .dataframe tbody tr th:only-of-type {\n",
       "        vertical-align: middle;\n",
       "    }\n",
       "\n",
       "    .dataframe tbody tr th {\n",
       "        vertical-align: top;\n",
       "    }\n",
       "\n",
       "    .dataframe thead th {\n",
       "        text-align: right;\n",
       "    }\n",
       "</style>\n",
       "<table border=\"1\" class=\"dataframe\">\n",
       "  <thead>\n",
       "    <tr style=\"text-align: right;\">\n",
       "      <th></th>\n",
       "      <th>sofifa_id</th>\n",
       "      <th>overall</th>\n",
       "      <th>potential</th>\n",
       "      <th>value_eur</th>\n",
       "      <th>wage_eur</th>\n",
       "      <th>age</th>\n",
       "      <th>height_cm</th>\n",
       "      <th>weight_kg</th>\n",
       "      <th>club_team_id</th>\n",
       "      <th>league_level</th>\n",
       "      <th>...</th>\n",
       "      <th>mentality_composure</th>\n",
       "      <th>defending_marking_awareness</th>\n",
       "      <th>defending_standing_tackle</th>\n",
       "      <th>defending_sliding_tackle</th>\n",
       "      <th>goalkeeping_diving</th>\n",
       "      <th>goalkeeping_handling</th>\n",
       "      <th>goalkeeping_kicking</th>\n",
       "      <th>goalkeeping_positioning</th>\n",
       "      <th>goalkeeping_reflexes</th>\n",
       "      <th>goalkeeping_speed</th>\n",
       "    </tr>\n",
       "  </thead>\n",
       "  <tbody>\n",
       "    <tr>\n",
       "      <th>count</th>\n",
       "      <td>142079.000000</td>\n",
       "      <td>142079.000000</td>\n",
       "      <td>142079.000000</td>\n",
       "      <td>1.401820e+05</td>\n",
       "      <td>140457.000000</td>\n",
       "      <td>142079.000000</td>\n",
       "      <td>142079.000000</td>\n",
       "      <td>142079.000000</td>\n",
       "      <td>140449.000000</td>\n",
       "      <td>140064.000000</td>\n",
       "      <td>...</td>\n",
       "      <td>110301.000000</td>\n",
       "      <td>142079.000000</td>\n",
       "      <td>142079.000000</td>\n",
       "      <td>142079.000000</td>\n",
       "      <td>142079.000000</td>\n",
       "      <td>142079.000000</td>\n",
       "      <td>142079.000000</td>\n",
       "      <td>142079.000000</td>\n",
       "      <td>142079.000000</td>\n",
       "      <td>15791.000000</td>\n",
       "    </tr>\n",
       "    <tr>\n",
       "      <th>mean</th>\n",
       "      <td>211625.235095</td>\n",
       "      <td>65.706121</td>\n",
       "      <td>70.726335</td>\n",
       "      <td>2.268820e+06</td>\n",
       "      <td>11113.728045</td>\n",
       "      <td>25.117125</td>\n",
       "      <td>181.206470</td>\n",
       "      <td>75.247911</td>\n",
       "      <td>44486.178762</td>\n",
       "      <td>1.378584</td>\n",
       "      <td>...</td>\n",
       "      <td>57.787572</td>\n",
       "      <td>45.664278</td>\n",
       "      <td>47.607402</td>\n",
       "      <td>45.649913</td>\n",
       "      <td>16.542874</td>\n",
       "      <td>16.289346</td>\n",
       "      <td>16.149185</td>\n",
       "      <td>16.297947</td>\n",
       "      <td>16.654221</td>\n",
       "      <td>39.531505</td>\n",
       "    </tr>\n",
       "    <tr>\n",
       "      <th>std</th>\n",
       "      <td>34846.473490</td>\n",
       "      <td>7.064665</td>\n",
       "      <td>6.271695</td>\n",
       "      <td>5.779823e+06</td>\n",
       "      <td>22251.563020</td>\n",
       "      <td>4.659230</td>\n",
       "      <td>6.734544</td>\n",
       "      <td>6.997585</td>\n",
       "      <td>53281.055198</td>\n",
       "      <td>0.748417</td>\n",
       "      <td>...</td>\n",
       "      <td>12.375479</td>\n",
       "      <td>20.456693</td>\n",
       "      <td>21.352377</td>\n",
       "      <td>20.963372</td>\n",
       "      <td>17.679880</td>\n",
       "      <td>16.829113</td>\n",
       "      <td>16.454171</td>\n",
       "      <td>16.991869</td>\n",
       "      <td>17.985856</td>\n",
       "      <td>10.434840</td>\n",
       "    </tr>\n",
       "    <tr>\n",
       "      <th>min</th>\n",
       "      <td>2.000000</td>\n",
       "      <td>40.000000</td>\n",
       "      <td>40.000000</td>\n",
       "      <td>1.000000e+03</td>\n",
       "      <td>500.000000</td>\n",
       "      <td>16.000000</td>\n",
       "      <td>154.000000</td>\n",
       "      <td>49.000000</td>\n",
       "      <td>1.000000</td>\n",
       "      <td>1.000000</td>\n",
       "      <td>...</td>\n",
       "      <td>3.000000</td>\n",
       "      <td>1.000000</td>\n",
       "      <td>2.000000</td>\n",
       "      <td>3.000000</td>\n",
       "      <td>1.000000</td>\n",
       "      <td>1.000000</td>\n",
       "      <td>1.000000</td>\n",
       "      <td>1.000000</td>\n",
       "      <td>1.000000</td>\n",
       "      <td>12.000000</td>\n",
       "    </tr>\n",
       "    <tr>\n",
       "      <th>25%</th>\n",
       "      <td>196142.000000</td>\n",
       "      <td>61.000000</td>\n",
       "      <td>66.000000</td>\n",
       "      <td>3.000000e+05</td>\n",
       "      <td>2000.000000</td>\n",
       "      <td>21.000000</td>\n",
       "      <td>176.000000</td>\n",
       "      <td>70.000000</td>\n",
       "      <td>449.000000</td>\n",
       "      <td>1.000000</td>\n",
       "      <td>...</td>\n",
       "      <td>50.000000</td>\n",
       "      <td>25.000000</td>\n",
       "      <td>26.000000</td>\n",
       "      <td>25.000000</td>\n",
       "      <td>8.000000</td>\n",
       "      <td>8.000000</td>\n",
       "      <td>8.000000</td>\n",
       "      <td>8.000000</td>\n",
       "      <td>8.000000</td>\n",
       "      <td>32.000000</td>\n",
       "    </tr>\n",
       "    <tr>\n",
       "      <th>50%</th>\n",
       "      <td>216393.000000</td>\n",
       "      <td>66.000000</td>\n",
       "      <td>70.000000</td>\n",
       "      <td>7.000000e+05</td>\n",
       "      <td>4000.000000</td>\n",
       "      <td>25.000000</td>\n",
       "      <td>181.000000</td>\n",
       "      <td>75.000000</td>\n",
       "      <td>1887.000000</td>\n",
       "      <td>1.000000</td>\n",
       "      <td>...</td>\n",
       "      <td>59.000000</td>\n",
       "      <td>50.000000</td>\n",
       "      <td>54.000000</td>\n",
       "      <td>52.000000</td>\n",
       "      <td>11.000000</td>\n",
       "      <td>11.000000</td>\n",
       "      <td>11.000000</td>\n",
       "      <td>11.000000</td>\n",
       "      <td>11.000000</td>\n",
       "      <td>41.000000</td>\n",
       "    </tr>\n",
       "    <tr>\n",
       "      <th>75%</th>\n",
       "      <td>234430.000000</td>\n",
       "      <td>70.000000</td>\n",
       "      <td>75.000000</td>\n",
       "      <td>1.800000e+06</td>\n",
       "      <td>10000.000000</td>\n",
       "      <td>28.000000</td>\n",
       "      <td>186.000000</td>\n",
       "      <td>80.000000</td>\n",
       "      <td>110799.000000</td>\n",
       "      <td>2.000000</td>\n",
       "      <td>...</td>\n",
       "      <td>66.000000</td>\n",
       "      <td>63.000000</td>\n",
       "      <td>66.000000</td>\n",
       "      <td>64.000000</td>\n",
       "      <td>14.000000</td>\n",
       "      <td>14.000000</td>\n",
       "      <td>14.000000</td>\n",
       "      <td>14.000000</td>\n",
       "      <td>14.000000</td>\n",
       "      <td>47.000000</td>\n",
       "    </tr>\n",
       "    <tr>\n",
       "      <th>max</th>\n",
       "      <td>264640.000000</td>\n",
       "      <td>94.000000</td>\n",
       "      <td>95.000000</td>\n",
       "      <td>1.940000e+08</td>\n",
       "      <td>575000.000000</td>\n",
       "      <td>54.000000</td>\n",
       "      <td>208.000000</td>\n",
       "      <td>110.000000</td>\n",
       "      <td>115820.000000</td>\n",
       "      <td>5.000000</td>\n",
       "      <td>...</td>\n",
       "      <td>96.000000</td>\n",
       "      <td>94.000000</td>\n",
       "      <td>94.000000</td>\n",
       "      <td>95.000000</td>\n",
       "      <td>91.000000</td>\n",
       "      <td>92.000000</td>\n",
       "      <td>95.000000</td>\n",
       "      <td>92.000000</td>\n",
       "      <td>94.000000</td>\n",
       "      <td>68.000000</td>\n",
       "    </tr>\n",
       "  </tbody>\n",
       "</table>\n",
       "<p>8 rows × 60 columns</p>\n",
       "</div>"
      ],
      "text/plain": [
       "           sofifa_id        overall      potential     value_eur  \\\n",
       "count  142079.000000  142079.000000  142079.000000  1.401820e+05   \n",
       "mean   211625.235095      65.706121      70.726335  2.268820e+06   \n",
       "std     34846.473490       7.064665       6.271695  5.779823e+06   \n",
       "min         2.000000      40.000000      40.000000  1.000000e+03   \n",
       "25%    196142.000000      61.000000      66.000000  3.000000e+05   \n",
       "50%    216393.000000      66.000000      70.000000  7.000000e+05   \n",
       "75%    234430.000000      70.000000      75.000000  1.800000e+06   \n",
       "max    264640.000000      94.000000      95.000000  1.940000e+08   \n",
       "\n",
       "            wage_eur            age      height_cm      weight_kg  \\\n",
       "count  140457.000000  142079.000000  142079.000000  142079.000000   \n",
       "mean    11113.728045      25.117125     181.206470      75.247911   \n",
       "std     22251.563020       4.659230       6.734544       6.997585   \n",
       "min       500.000000      16.000000     154.000000      49.000000   \n",
       "25%      2000.000000      21.000000     176.000000      70.000000   \n",
       "50%      4000.000000      25.000000     181.000000      75.000000   \n",
       "75%     10000.000000      28.000000     186.000000      80.000000   \n",
       "max    575000.000000      54.000000     208.000000     110.000000   \n",
       "\n",
       "        club_team_id   league_level  ...  mentality_composure  \\\n",
       "count  140449.000000  140064.000000  ...        110301.000000   \n",
       "mean    44486.178762       1.378584  ...            57.787572   \n",
       "std     53281.055198       0.748417  ...            12.375479   \n",
       "min         1.000000       1.000000  ...             3.000000   \n",
       "25%       449.000000       1.000000  ...            50.000000   \n",
       "50%      1887.000000       1.000000  ...            59.000000   \n",
       "75%    110799.000000       2.000000  ...            66.000000   \n",
       "max    115820.000000       5.000000  ...            96.000000   \n",
       "\n",
       "       defending_marking_awareness  defending_standing_tackle  \\\n",
       "count                142079.000000              142079.000000   \n",
       "mean                     45.664278                  47.607402   \n",
       "std                      20.456693                  21.352377   \n",
       "min                       1.000000                   2.000000   \n",
       "25%                      25.000000                  26.000000   \n",
       "50%                      50.000000                  54.000000   \n",
       "75%                      63.000000                  66.000000   \n",
       "max                      94.000000                  94.000000   \n",
       "\n",
       "       defending_sliding_tackle  goalkeeping_diving  goalkeeping_handling  \\\n",
       "count             142079.000000       142079.000000         142079.000000   \n",
       "mean                  45.649913           16.542874             16.289346   \n",
       "std                   20.963372           17.679880             16.829113   \n",
       "min                    3.000000            1.000000              1.000000   \n",
       "25%                   25.000000            8.000000              8.000000   \n",
       "50%                   52.000000           11.000000             11.000000   \n",
       "75%                   64.000000           14.000000             14.000000   \n",
       "max                   95.000000           91.000000             92.000000   \n",
       "\n",
       "       goalkeeping_kicking  goalkeeping_positioning  goalkeeping_reflexes  \\\n",
       "count        142079.000000            142079.000000         142079.000000   \n",
       "mean             16.149185                16.297947             16.654221   \n",
       "std              16.454171                16.991869             17.985856   \n",
       "min               1.000000                 1.000000              1.000000   \n",
       "25%               8.000000                 8.000000              8.000000   \n",
       "50%              11.000000                11.000000             11.000000   \n",
       "75%              14.000000                14.000000             14.000000   \n",
       "max              95.000000                92.000000             94.000000   \n",
       "\n",
       "       goalkeeping_speed  \n",
       "count       15791.000000  \n",
       "mean           39.531505  \n",
       "std            10.434840  \n",
       "min            12.000000  \n",
       "25%            32.000000  \n",
       "50%            41.000000  \n",
       "75%            47.000000  \n",
       "max            68.000000  \n",
       "\n",
       "[8 rows x 60 columns]"
      ]
     },
     "execution_count": 17,
     "metadata": {},
     "output_type": "execute_result"
    }
   ],
   "source": [
    "df.describe()"
   ]
  },
  {
   "cell_type": "code",
   "execution_count": 18,
   "metadata": {},
   "outputs": [
    {
     "name": "stdout",
     "output_type": "stream",
     "text": [
      "<class 'pandas.core.frame.DataFrame'>\n",
      "RangeIndex: 142079 entries, 0 to 142078\n",
      "Columns: 110 entries, sofifa_id to nation_flag_url\n",
      "dtypes: float64(17), int64(43), object(50)\n",
      "memory usage: 119.2+ MB\n"
     ]
    }
   ],
   "source": [
    "df.info()"
   ]
  },
  {
   "attachments": {},
   "cell_type": "markdown",
   "metadata": {},
   "source": [
    "# Clean Data "
   ]
  },
  {
   "cell_type": "code",
   "execution_count": 19,
   "metadata": {},
   "outputs": [],
   "source": [
    "### [body_type , player_tags , player_traits] type mmkn nd5lo"
   ]
  },
  {
   "attachments": {},
   "cell_type": "markdown",
   "metadata": {},
   "source": [
    "Drop uneccessary columns"
   ]
  },
  {
   "cell_type": "code",
   "execution_count": 20,
   "metadata": {},
   "outputs": [],
   "source": [
    "df = df.drop(['player_face_url','club_logo_url','club_flag_url','nation_logo_url','nation_flag_url','sofifa_id', 'player_url', 'short_name', \n",
    "              'long_name','player_positions','dob','club_team_id','club_loaned_from' ,'nationality_id', 'nationality_id' , 'nation_team_id',\n",
    "              'body_type' , 'real_face' ,'player_traits' ] , axis=1)"
   ]
  },
  {
   "cell_type": "code",
   "execution_count": 21,
   "metadata": {},
   "outputs": [
    {
     "data": {
      "text/plain": [
       "(142079, 92)"
      ]
     },
     "execution_count": 21,
     "metadata": {},
     "output_type": "execute_result"
    }
   ],
   "source": [
    "df.shape"
   ]
  },
  {
   "attachments": {},
   "cell_type": "markdown",
   "metadata": {},
   "source": [
    "Handle missing data "
   ]
  },
  {
   "cell_type": "code",
   "execution_count": 22,
   "metadata": {},
   "outputs": [],
   "source": [
    "## we have to divide the number of columns to show the missing data because they are too uch to appear"
   ]
  },
  {
   "cell_type": "code",
   "execution_count": 23,
   "metadata": {},
   "outputs": [
    {
     "data": {
      "text/plain": [
       "Index(['overall', 'potential', 'value_eur', 'wage_eur', 'age', 'height_cm',\n",
       "       'weight_kg', 'club_name', 'league_name', 'league_level',\n",
       "       'club_position', 'club_jersey_number', 'club_joined',\n",
       "       'club_contract_valid_until', 'nationality_name', 'nation_position',\n",
       "       'nation_jersey_number', 'preferred_foot', 'weak_foot', 'skill_moves',\n",
       "       'international_reputation', 'work_rate', 'release_clause_eur',\n",
       "       'player_tags', 'pace', 'shooting', 'passing', 'dribbling', 'defending',\n",
       "       'physic', 'attacking_crossing', 'attacking_finishing',\n",
       "       'attacking_heading_accuracy', 'attacking_short_passing',\n",
       "       'attacking_volleys', 'skill_dribbling', 'skill_curve',\n",
       "       'skill_fk_accuracy', 'skill_long_passing', 'skill_ball_control',\n",
       "       'movement_acceleration', 'movement_sprint_speed', 'movement_agility',\n",
       "       'movement_reactions', 'movement_balance', 'power_shot_power',\n",
       "       'power_jumping', 'power_stamina', 'power_strength', 'power_long_shots',\n",
       "       'mentality_aggression', 'mentality_interceptions',\n",
       "       'mentality_positioning', 'mentality_vision', 'mentality_penalties',\n",
       "       'mentality_composure', 'defending_marking_awareness',\n",
       "       'defending_standing_tackle', 'defending_sliding_tackle',\n",
       "       'goalkeeping_diving', 'goalkeeping_handling', 'goalkeeping_kicking',\n",
       "       'goalkeeping_positioning', 'goalkeeping_reflexes', 'goalkeeping_speed',\n",
       "       'ls', 'st', 'rs', 'lw', 'lf', 'cf', 'rf', 'rw', 'lam', 'cam', 'ram',\n",
       "       'lm', 'lcm', 'cm', 'rcm', 'rm', 'lwb', 'ldm', 'cdm', 'rdm', 'rwb', 'lb',\n",
       "       'lcb', 'cb', 'rcb', 'rb', 'gk'],\n",
       "      dtype='object')"
      ]
     },
     "execution_count": 23,
     "metadata": {},
     "output_type": "execute_result"
    }
   ],
   "source": [
    "## get list of all columns in data frame to divide them\n",
    "df.columns"
   ]
  },
  {
   "cell_type": "code",
   "execution_count": 24,
   "metadata": {},
   "outputs": [],
   "source": [
    "## first part of data \n",
    "df_prt1 = df[ [ 'overall', 'potential', 'value_eur', 'wage_eur', 'age', 'height_cm',\n",
    "       'weight_kg', 'club_name', 'league_name', 'league_level',\n",
    "       'club_position', 'club_jersey_number', 'club_joined',\n",
    "       'club_contract_valid_until', 'nationality_name', 'nation_position',\n",
    "       'nation_jersey_number', 'preferred_foot', 'weak_foot', 'skill_moves','international_reputation', 'work_rate', 'release_clause_eur',\n",
    "       'player_tags', 'pace', 'shooting', 'passing']]"
   ]
  },
  {
   "cell_type": "code",
   "execution_count": 25,
   "metadata": {},
   "outputs": [
    {
     "data": {
      "text/plain": [
       "overall                           0\n",
       "potential                         0\n",
       "value_eur                      1897\n",
       "wage_eur                       1622\n",
       "age                               0\n",
       "height_cm                         0\n",
       "weight_kg                         0\n",
       "club_name                      1630\n",
       "league_name                    1630\n",
       "league_level                   2015\n",
       "club_position                  1630\n",
       "club_jersey_number             1630\n",
       "club_joined                    9935\n",
       "club_contract_valid_until      1630\n",
       "nationality_name                  0\n",
       "nation_position              133635\n",
       "nation_jersey_number         133635\n",
       "preferred_foot                    0\n",
       "weak_foot                         0\n",
       "skill_moves                       0\n",
       "international_reputation          0\n",
       "work_rate                         0\n",
       "release_clause_eur            55582\n",
       "player_tags                  130765\n",
       "pace                          15791\n",
       "shooting                      15791\n",
       "passing                       15791\n",
       "dtype: int64"
      ]
     },
     "execution_count": 25,
     "metadata": {},
     "output_type": "execute_result"
    }
   ],
   "source": [
    "## get the number of the missing data (part1)\n",
    "df_prt1.isnull().sum()"
   ]
  },
  {
   "cell_type": "code",
   "execution_count": 26,
   "metadata": {},
   "outputs": [
    {
     "data": {
      "text/plain": [
       "overall                       0.000000\n",
       "potential                     0.000000\n",
       "value_eur                     1.335173\n",
       "wage_eur                      1.141618\n",
       "age                           0.000000\n",
       "height_cm                     0.000000\n",
       "weight_kg                     0.000000\n",
       "club_name                     1.147249\n",
       "league_name                   1.147249\n",
       "league_level                  1.418225\n",
       "club_position                 1.147249\n",
       "club_jersey_number            1.147249\n",
       "club_joined                   6.992589\n",
       "club_contract_valid_until     1.147249\n",
       "nationality_name              0.000000\n",
       "nation_position              94.056828\n",
       "nation_jersey_number         94.056828\n",
       "preferred_foot                0.000000\n",
       "weak_foot                     0.000000\n",
       "skill_moves                   0.000000\n",
       "international_reputation      0.000000\n",
       "work_rate                     0.000000\n",
       "release_clause_eur           39.120489\n",
       "player_tags                  92.036825\n",
       "pace                         11.114239\n",
       "shooting                     11.114239\n",
       "passing                      11.114239\n",
       "dtype: float64"
      ]
     },
     "execution_count": 26,
     "metadata": {},
     "output_type": "execute_result"
    }
   ],
   "source": [
    "## missin percentage part(1)\n",
    "df_prt1.isnull().mean()*100"
   ]
  },
  {
   "cell_type": "code",
   "execution_count": 27,
   "metadata": {},
   "outputs": [],
   "source": [
    "###  i found alot of missing data in following columns[value_eur,wage_eur,club_name,league_name ,league_level ,club_position,club_jersey_number\n",
    "###    ,club_joined ,club_contract_valid_until,nation_position ,nation_jersey_number,,,] so i will decide how i will handle them {fill , drop }\n"
   ]
  },
  {
   "cell_type": "code",
   "execution_count": 28,
   "metadata": {},
   "outputs": [
    {
     "data": {
      "text/plain": [
       "count    1.401820e+05\n",
       "mean     2.268820e+06\n",
       "std      5.779823e+06\n",
       "min      1.000000e+03\n",
       "25%      3.000000e+05\n",
       "50%      7.000000e+05\n",
       "75%      1.800000e+06\n",
       "max      1.940000e+08\n",
       "Name: value_eur, dtype: float64"
      ]
     },
     "execution_count": 28,
     "metadata": {},
     "output_type": "execute_result"
    }
   ],
   "source": [
    "df[\"value_eur\"].describe()"
   ]
  },
  {
   "cell_type": "code",
   "execution_count": 29,
   "metadata": {},
   "outputs": [
    {
     "name": "stderr",
     "output_type": "stream",
     "text": [
      "C:\\Users\\HP.SXS04\\AppData\\Local\\Temp\\ipykernel_1344\\1646096794.py:1: SettingWithCopyWarning: \n",
      "A value is trying to be set on a copy of a slice from a DataFrame\n",
      "\n",
      "See the caveats in the documentation: https://pandas.pydata.org/pandas-docs/stable/user_guide/indexing.html#returning-a-view-versus-a-copy\n",
      "  df_prt1.drop(df_prt1[df_prt1[\"value_eur\"].isnull()].index , axis= 0 , inplace= True)\n"
     ]
    }
   ],
   "source": [
    "df_prt1.drop(df_prt1[df_prt1[\"value_eur\"].isnull()].index , axis= 0 , inplace= True)"
   ]
  },
  {
   "cell_type": "code",
   "execution_count": 30,
   "metadata": {},
   "outputs": [],
   "source": [
    "## we cant fill the missing the data so we will drop the null rows /  Note :there is a big difference between median and mean (squide data)\n",
    "df.drop(df[df[\"value_eur\"].isnull()].index , axis = 0 ,inplace =True  ) "
   ]
  },
  {
   "cell_type": "code",
   "execution_count": 31,
   "metadata": {},
   "outputs": [],
   "source": [
    "#df_prt1.drop(df_prt1[df_prt1[\"value_eur\"].isnull()].index , axis = 0  ) "
   ]
  },
  {
   "cell_type": "code",
   "execution_count": 32,
   "metadata": {},
   "outputs": [
    {
     "data": {
      "text/plain": [
       "overall                           0\n",
       "potential                         0\n",
       "value_eur                         0\n",
       "wage_eur                          0\n",
       "age                               0\n",
       "height_cm                         0\n",
       "weight_kg                         0\n",
       "club_name                         8\n",
       "league_name                       8\n",
       "league_level                    393\n",
       "club_position                     8\n",
       "club_jersey_number                8\n",
       "club_joined                    8308\n",
       "club_contract_valid_until         8\n",
       "nationality_name                  0\n",
       "nation_position              133366\n",
       "nation_jersey_number         133366\n",
       "preferred_foot                    0\n",
       "weak_foot                         0\n",
       "skill_moves                       0\n",
       "international_reputation          0\n",
       "work_rate                         0\n",
       "release_clause_eur            53685\n",
       "player_tags                  129010\n",
       "pace                          15543\n",
       "shooting                      15543\n",
       "passing                       15543\n",
       "dtype: int64"
      ]
     },
     "execution_count": 32,
     "metadata": {},
     "output_type": "execute_result"
    }
   ],
   "source": [
    "df_prt1.isnull().sum()"
   ]
  },
  {
   "cell_type": "code",
   "execution_count": 33,
   "metadata": {},
   "outputs": [
    {
     "data": {
      "text/plain": [
       "#Strength                                                                                                                          3728\n",
       "#Acrobat                                                                                                                           1802\n",
       "#Engine                                                                                                                            1454\n",
       "#Speedster                                                                                                                         1240\n",
       "#Speedster, #Acrobat                                                                                                                516\n",
       "                                                                                                                                   ... \n",
       "#Dribbler, #Engine, #Acrobat, #Clinical Finisher, #Complete Forward                                                                   1\n",
       "#Engine, #Distance Shooter, #Strength                                                                                                 1\n",
       "#Dribbler, #Playmaker, #Distance Shooter, #FK Specialist, #Acrobat, #Clinical Finisher, #Complete Midfielder, #Complete Forward       1\n",
       "#Poacher, #Speedster, #Complete Forward                                                                                               1\n",
       "#Engine, #Strength, #Clinical Finisher, #Complete Forward                                                                             1\n",
       "Name: player_tags, Length: 162, dtype: int64"
      ]
     },
     "execution_count": 33,
     "metadata": {},
     "output_type": "execute_result"
    }
   ],
   "source": [
    "## handle missing in player_tags \n",
    "df.player_tags.value_counts()\n"
   ]
  },
  {
   "cell_type": "code",
   "execution_count": 34,
   "metadata": {},
   "outputs": [],
   "source": [
    "## i cant fill the misiing columns so i have to drop the column\n",
    "df.drop(\"player_tags\" , axis = 1 , inplace = True)"
   ]
  },
  {
   "cell_type": "code",
   "execution_count": 35,
   "metadata": {},
   "outputs": [
    {
     "name": "stderr",
     "output_type": "stream",
     "text": [
      "C:\\Users\\HP.SXS04\\AppData\\Local\\Temp\\ipykernel_1344\\3170349582.py:2: SettingWithCopyWarning: \n",
      "A value is trying to be set on a copy of a slice from a DataFrame\n",
      "\n",
      "See the caveats in the documentation: https://pandas.pydata.org/pandas-docs/stable/user_guide/indexing.html#returning-a-view-versus-a-copy\n",
      "  df_prt1.drop(\"player_tags\" , axis = 1 , inplace = True)\n"
     ]
    }
   ],
   "source": [
    "## i cant fill the misiing columns so i have to drop the column\n",
    "df_prt1.drop(\"player_tags\" , axis = 1 , inplace = True)"
   ]
  },
  {
   "cell_type": "code",
   "execution_count": 36,
   "metadata": {},
   "outputs": [
    {
     "data": {
      "text/plain": [
       "overall                           0\n",
       "potential                         0\n",
       "value_eur                         0\n",
       "wage_eur                          0\n",
       "age                               0\n",
       "height_cm                         0\n",
       "weight_kg                         0\n",
       "club_name                         8\n",
       "league_name                       8\n",
       "league_level                    393\n",
       "club_position                     8\n",
       "club_jersey_number                8\n",
       "club_joined                    8308\n",
       "club_contract_valid_until         8\n",
       "nationality_name                  0\n",
       "nation_position              133366\n",
       "nation_jersey_number         133366\n",
       "preferred_foot                    0\n",
       "weak_foot                         0\n",
       "skill_moves                       0\n",
       "international_reputation          0\n",
       "work_rate                         0\n",
       "release_clause_eur            53685\n",
       "pace                          15543\n",
       "shooting                      15543\n",
       "passing                       15543\n",
       "dtype: int64"
      ]
     },
     "execution_count": 36,
     "metadata": {},
     "output_type": "execute_result"
    }
   ],
   "source": [
    "\n",
    "df_prt1.isnull().sum()"
   ]
  },
  {
   "cell_type": "code",
   "execution_count": 37,
   "metadata": {},
   "outputs": [],
   "source": [
    "## we cant fill the columns so we will drop \n",
    "df.drop(['nation_jersey_number', \"nation_position\"] , axis = 1 , inplace=True) "
   ]
  },
  {
   "cell_type": "code",
   "execution_count": 38,
   "metadata": {},
   "outputs": [
    {
     "name": "stderr",
     "output_type": "stream",
     "text": [
      "C:\\Users\\HP.SXS04\\AppData\\Local\\Temp\\ipykernel_1344\\2869306295.py:1: SettingWithCopyWarning: \n",
      "A value is trying to be set on a copy of a slice from a DataFrame\n",
      "\n",
      "See the caveats in the documentation: https://pandas.pydata.org/pandas-docs/stable/user_guide/indexing.html#returning-a-view-versus-a-copy\n",
      "  df_prt1.drop(['nation_jersey_number', \"nation_position\"] , axis = 1 , inplace=True)\n"
     ]
    }
   ],
   "source": [
    "df_prt1.drop(['nation_jersey_number', \"nation_position\"] , axis = 1 , inplace=True) "
   ]
  },
  {
   "cell_type": "code",
   "execution_count": 39,
   "metadata": {},
   "outputs": [
    {
     "data": {
      "text/plain": [
       "overall                          0\n",
       "potential                        0\n",
       "value_eur                        0\n",
       "wage_eur                         0\n",
       "age                              0\n",
       "height_cm                        0\n",
       "weight_kg                        0\n",
       "club_name                        8\n",
       "league_name                      8\n",
       "league_level                   393\n",
       "club_position                    8\n",
       "club_jersey_number               8\n",
       "club_joined                   8308\n",
       "club_contract_valid_until        8\n",
       "nationality_name                 0\n",
       "preferred_foot                   0\n",
       "weak_foot                        0\n",
       "skill_moves                      0\n",
       "international_reputation         0\n",
       "work_rate                        0\n",
       "release_clause_eur           53685\n",
       "pace                         15543\n",
       "shooting                     15543\n",
       "passing                      15543\n",
       "dtype: int64"
      ]
     },
     "execution_count": 39,
     "metadata": {},
     "output_type": "execute_result"
    }
   ],
   "source": [
    "df_prt1.isnull().sum()"
   ]
  },
  {
   "attachments": {},
   "cell_type": "markdown",
   "metadata": {},
   "source": [
    "##############################################################################################################################################################################################"
   ]
  },
  {
   "cell_type": "code",
   "execution_count": 40,
   "metadata": {},
   "outputs": [
    {
     "data": {
      "text/plain": [
       "count    8.649700e+04\n",
       "mean     4.683635e+06\n",
       "std      1.169333e+07\n",
       "min      9.000000e+03\n",
       "25%      5.780000e+05\n",
       "50%      1.300000e+06\n",
       "75%      3.500000e+06\n",
       "max      3.735000e+08\n",
       "Name: release_clause_eur, dtype: float64"
      ]
     },
     "execution_count": 40,
     "metadata": {},
     "output_type": "execute_result"
    }
   ],
   "source": [
    "## handle release_clause_eur\n",
    "df.release_clause_eur.describe()"
   ]
  },
  {
   "cell_type": "code",
   "execution_count": 41,
   "metadata": {},
   "outputs": [
    {
     "data": {
      "text/plain": [
       "4683635.074048811"
      ]
     },
     "execution_count": 41,
     "metadata": {},
     "output_type": "execute_result"
    }
   ],
   "source": [
    "df.release_clause_eur.mean()"
   ]
  },
  {
   "cell_type": "code",
   "execution_count": 42,
   "metadata": {},
   "outputs": [],
   "source": [
    "## i can fill the release clauss with mean values\n",
    "df.release_clause_eur.fillna(df.release_clause_eur.mean() , inplace= True)"
   ]
  },
  {
   "cell_type": "code",
   "execution_count": 43,
   "metadata": {},
   "outputs": [
    {
     "name": "stderr",
     "output_type": "stream",
     "text": [
      "C:\\Users\\HP.SXS04\\AppData\\Local\\Temp\\ipykernel_1344\\1883859345.py:1: SettingWithCopyWarning: \n",
      "A value is trying to be set on a copy of a slice from a DataFrame\n",
      "\n",
      "See the caveats in the documentation: https://pandas.pydata.org/pandas-docs/stable/user_guide/indexing.html#returning-a-view-versus-a-copy\n",
      "  df_prt1.release_clause_eur.fillna(df.release_clause_eur.mean() , inplace= True)\n"
     ]
    }
   ],
   "source": [
    "df_prt1.release_clause_eur.fillna(df.release_clause_eur.mean() , inplace= True)"
   ]
  },
  {
   "cell_type": "code",
   "execution_count": 44,
   "metadata": {},
   "outputs": [
    {
     "data": {
      "text/plain": [
       "overall                          0\n",
       "potential                        0\n",
       "value_eur                        0\n",
       "wage_eur                         0\n",
       "age                              0\n",
       "height_cm                        0\n",
       "weight_kg                        0\n",
       "club_name                        8\n",
       "league_name                      8\n",
       "league_level                   393\n",
       "club_position                    8\n",
       "club_jersey_number               8\n",
       "club_joined                   8308\n",
       "club_contract_valid_until        8\n",
       "nationality_name                 0\n",
       "preferred_foot                   0\n",
       "weak_foot                        0\n",
       "skill_moves                      0\n",
       "international_reputation         0\n",
       "work_rate                        0\n",
       "release_clause_eur               0\n",
       "pace                         15543\n",
       "shooting                     15543\n",
       "passing                      15543\n",
       "dtype: int64"
      ]
     },
     "execution_count": 44,
     "metadata": {},
     "output_type": "execute_result"
    }
   ],
   "source": [
    "df_prt1.isnull().sum()"
   ]
  },
  {
   "attachments": {},
   "cell_type": "markdown",
   "metadata": {},
   "source": [
    "##############################################################################################################################################################################################"
   ]
  },
  {
   "cell_type": "code",
   "execution_count": 45,
   "metadata": {},
   "outputs": [
    {
     "data": {
      "text/plain": [
       "overall                          0\n",
       "potential                        0\n",
       "value_eur                        0\n",
       "wage_eur                         0\n",
       "age                              0\n",
       "height_cm                        0\n",
       "weight_kg                        0\n",
       "club_name                        8\n",
       "league_name                      8\n",
       "league_level                   393\n",
       "club_position                    8\n",
       "club_jersey_number               8\n",
       "club_joined                   8308\n",
       "club_contract_valid_until        8\n",
       "nationality_name                 0\n",
       "preferred_foot                   0\n",
       "weak_foot                        0\n",
       "skill_moves                      0\n",
       "international_reputation         0\n",
       "work_rate                        0\n",
       "release_clause_eur               0\n",
       "pace                         15543\n",
       "shooting                     15543\n",
       "passing                      15543\n",
       "dtype: int64"
      ]
     },
     "execution_count": 45,
     "metadata": {},
     "output_type": "execute_result"
    }
   ],
   "source": [
    "df_prt1.isnull().sum()"
   ]
  },
  {
   "attachments": {},
   "cell_type": "markdown",
   "metadata": {},
   "source": [
    "#################################################################################################################################################################################################"
   ]
  },
  {
   "cell_type": "code",
   "execution_count": 46,
   "metadata": {},
   "outputs": [
    {
     "data": {
      "text/plain": [
       "count    124639.000000\n",
       "mean         52.185720\n",
       "std          13.928307\n",
       "min          14.000000\n",
       "25%          42.000000\n",
       "50%          54.000000\n",
       "75%          63.000000\n",
       "max          94.000000\n",
       "Name: shooting, dtype: float64"
      ]
     },
     "execution_count": 46,
     "metadata": {},
     "output_type": "execute_result"
    }
   ],
   "source": [
    "## haandle pace , shooting ,passing\n",
    "df.shooting.describe()"
   ]
  },
  {
   "cell_type": "code",
   "execution_count": 47,
   "metadata": {},
   "outputs": [
    {
     "data": {
      "text/plain": [
       "count    124639.000000\n",
       "mean         68.030295\n",
       "std          11.078422\n",
       "min          21.000000\n",
       "25%          62.000000\n",
       "50%          69.000000\n",
       "75%          76.000000\n",
       "max          97.000000\n",
       "Name: pace, dtype: float64"
      ]
     },
     "execution_count": 47,
     "metadata": {},
     "output_type": "execute_result"
    }
   ],
   "source": [
    "df.pace.describe()"
   ]
  },
  {
   "cell_type": "code",
   "execution_count": 48,
   "metadata": {},
   "outputs": [
    {
     "data": {
      "text/plain": [
       "count    124639.000000\n",
       "mean         56.869656\n",
       "std          10.551151\n",
       "min          20.000000\n",
       "25%          50.000000\n",
       "50%          58.000000\n",
       "75%          64.000000\n",
       "max          93.000000\n",
       "Name: passing, dtype: float64"
      ]
     },
     "execution_count": 48,
     "metadata": {},
     "output_type": "execute_result"
    }
   ],
   "source": [
    "df.passing.describe()"
   ]
  },
  {
   "cell_type": "code",
   "execution_count": 49,
   "metadata": {},
   "outputs": [],
   "source": [
    "df.pace.fillna(df.pace.mean() , inplace= True)"
   ]
  },
  {
   "cell_type": "code",
   "execution_count": 50,
   "metadata": {},
   "outputs": [],
   "source": [
    "df.shooting.fillna(df.shooting.mean() , inplace= True)"
   ]
  },
  {
   "cell_type": "code",
   "execution_count": 51,
   "metadata": {},
   "outputs": [],
   "source": [
    "df.passing.fillna(df.passing.mean() , inplace= True)"
   ]
  },
  {
   "cell_type": "code",
   "execution_count": 52,
   "metadata": {},
   "outputs": [
    {
     "name": "stderr",
     "output_type": "stream",
     "text": [
      "C:\\Users\\HP.SXS04\\AppData\\Local\\Temp\\ipykernel_1344\\3856165304.py:1: SettingWithCopyWarning: \n",
      "A value is trying to be set on a copy of a slice from a DataFrame\n",
      "\n",
      "See the caveats in the documentation: https://pandas.pydata.org/pandas-docs/stable/user_guide/indexing.html#returning-a-view-versus-a-copy\n",
      "  df_prt1.pace.fillna(df.pace.mean() , inplace= True)\n"
     ]
    }
   ],
   "source": [
    "df_prt1.pace.fillna(df.pace.mean() , inplace= True)"
   ]
  },
  {
   "cell_type": "code",
   "execution_count": 53,
   "metadata": {},
   "outputs": [
    {
     "name": "stderr",
     "output_type": "stream",
     "text": [
      "C:\\Users\\HP.SXS04\\AppData\\Local\\Temp\\ipykernel_1344\\2737111343.py:1: SettingWithCopyWarning: \n",
      "A value is trying to be set on a copy of a slice from a DataFrame\n",
      "\n",
      "See the caveats in the documentation: https://pandas.pydata.org/pandas-docs/stable/user_guide/indexing.html#returning-a-view-versus-a-copy\n",
      "  df_prt1.shooting.fillna(df.shooting.mean() , inplace= True)\n"
     ]
    }
   ],
   "source": [
    "df_prt1.shooting.fillna(df.shooting.mean() , inplace= True)"
   ]
  },
  {
   "cell_type": "code",
   "execution_count": 54,
   "metadata": {},
   "outputs": [
    {
     "name": "stderr",
     "output_type": "stream",
     "text": [
      "C:\\Users\\HP.SXS04\\AppData\\Local\\Temp\\ipykernel_1344\\2598670331.py:1: SettingWithCopyWarning: \n",
      "A value is trying to be set on a copy of a slice from a DataFrame\n",
      "\n",
      "See the caveats in the documentation: https://pandas.pydata.org/pandas-docs/stable/user_guide/indexing.html#returning-a-view-versus-a-copy\n",
      "  df_prt1 .passing.fillna(df.passing.mean() , inplace= True)\n"
     ]
    }
   ],
   "source": [
    "df_prt1 .passing.fillna(df.passing.mean() , inplace= True)"
   ]
  },
  {
   "cell_type": "code",
   "execution_count": 55,
   "metadata": {},
   "outputs": [
    {
     "data": {
      "text/plain": [
       "overall                         0\n",
       "potential                       0\n",
       "value_eur                       0\n",
       "wage_eur                        0\n",
       "age                             0\n",
       "height_cm                       0\n",
       "weight_kg                       0\n",
       "club_name                       8\n",
       "league_name                     8\n",
       "league_level                  393\n",
       "club_position                   8\n",
       "club_jersey_number              8\n",
       "club_joined                  8308\n",
       "club_contract_valid_until       8\n",
       "nationality_name                0\n",
       "preferred_foot                  0\n",
       "weak_foot                       0\n",
       "skill_moves                     0\n",
       "international_reputation        0\n",
       "work_rate                       0\n",
       "release_clause_eur              0\n",
       "pace                            0\n",
       "shooting                        0\n",
       "passing                         0\n",
       "dtype: int64"
      ]
     },
     "execution_count": 55,
     "metadata": {},
     "output_type": "execute_result"
    }
   ],
   "source": [
    "df_prt1.isnull().sum()"
   ]
  },
  {
   "attachments": {},
   "cell_type": "markdown",
   "metadata": {},
   "source": [
    "################################################################################################################################################################################################"
   ]
  },
  {
   "cell_type": "code",
   "execution_count": 56,
   "metadata": {},
   "outputs": [
    {
     "data": {
      "text/plain": [
       "count         131874\n",
       "unique          3705\n",
       "top       2017-07-01\n",
       "freq            4124\n",
       "Name: club_joined, dtype: object"
      ]
     },
     "execution_count": 56,
     "metadata": {},
     "output_type": "execute_result"
    }
   ],
   "source": [
    "## handle clube joined\n",
    "df.club_joined.describe()"
   ]
  },
  {
   "cell_type": "code",
   "execution_count": 57,
   "metadata": {},
   "outputs": [
    {
     "data": {
      "text/html": [
       "<div>\n",
       "<style scoped>\n",
       "    .dataframe tbody tr th:only-of-type {\n",
       "        vertical-align: middle;\n",
       "    }\n",
       "\n",
       "    .dataframe tbody tr th {\n",
       "        vertical-align: top;\n",
       "    }\n",
       "\n",
       "    .dataframe thead th {\n",
       "        text-align: right;\n",
       "    }\n",
       "</style>\n",
       "<table border=\"1\" class=\"dataframe\">\n",
       "  <thead>\n",
       "    <tr style=\"text-align: right;\">\n",
       "      <th></th>\n",
       "      <th>overall</th>\n",
       "      <th>potential</th>\n",
       "      <th>value_eur</th>\n",
       "      <th>wage_eur</th>\n",
       "      <th>age</th>\n",
       "      <th>height_cm</th>\n",
       "      <th>weight_kg</th>\n",
       "      <th>club_name</th>\n",
       "      <th>league_name</th>\n",
       "      <th>league_level</th>\n",
       "      <th>...</th>\n",
       "      <th>ldm</th>\n",
       "      <th>cdm</th>\n",
       "      <th>rdm</th>\n",
       "      <th>rwb</th>\n",
       "      <th>lb</th>\n",
       "      <th>lcb</th>\n",
       "      <th>cb</th>\n",
       "      <th>rcb</th>\n",
       "      <th>rb</th>\n",
       "      <th>gk</th>\n",
       "    </tr>\n",
       "  </thead>\n",
       "  <tbody>\n",
       "    <tr>\n",
       "      <th>10</th>\n",
       "      <td>88</td>\n",
       "      <td>88</td>\n",
       "      <td>46500000.0</td>\n",
       "      <td>250000.0</td>\n",
       "      <td>28</td>\n",
       "      <td>177</td>\n",
       "      <td>72</td>\n",
       "      <td>Manchester United</td>\n",
       "      <td>English Premier League</td>\n",
       "      <td>1.0</td>\n",
       "      <td>...</td>\n",
       "      <td>60+2</td>\n",
       "      <td>60+2</td>\n",
       "      <td>60+2</td>\n",
       "      <td>58+2</td>\n",
       "      <td>56+2</td>\n",
       "      <td>55+2</td>\n",
       "      <td>55+2</td>\n",
       "      <td>55+2</td>\n",
       "      <td>56+2</td>\n",
       "      <td>14+2</td>\n",
       "    </tr>\n",
       "    <tr>\n",
       "      <th>72</th>\n",
       "      <td>83</td>\n",
       "      <td>83</td>\n",
       "      <td>17000000.0</td>\n",
       "      <td>140000.0</td>\n",
       "      <td>28</td>\n",
       "      <td>186</td>\n",
       "      <td>79</td>\n",
       "      <td>Valencia CF</td>\n",
       "      <td>Spain Primera Division</td>\n",
       "      <td>1.0</td>\n",
       "      <td>...</td>\n",
       "      <td>62+1</td>\n",
       "      <td>62+1</td>\n",
       "      <td>62+1</td>\n",
       "      <td>57+1</td>\n",
       "      <td>55+1</td>\n",
       "      <td>57+1</td>\n",
       "      <td>57+1</td>\n",
       "      <td>57+1</td>\n",
       "      <td>55+1</td>\n",
       "      <td>14+1</td>\n",
       "    </tr>\n",
       "    <tr>\n",
       "      <th>159</th>\n",
       "      <td>81</td>\n",
       "      <td>81</td>\n",
       "      <td>10500000.0</td>\n",
       "      <td>110000.0</td>\n",
       "      <td>30</td>\n",
       "      <td>186</td>\n",
       "      <td>78</td>\n",
       "      <td>AC Milan</td>\n",
       "      <td>Italian Serie A</td>\n",
       "      <td>1.0</td>\n",
       "      <td>...</td>\n",
       "      <td>58+1</td>\n",
       "      <td>58+1</td>\n",
       "      <td>58+1</td>\n",
       "      <td>57+1</td>\n",
       "      <td>53+1</td>\n",
       "      <td>49+1</td>\n",
       "      <td>49+1</td>\n",
       "      <td>49+1</td>\n",
       "      <td>53+1</td>\n",
       "      <td>16+1</td>\n",
       "    </tr>\n",
       "    <tr>\n",
       "      <th>165</th>\n",
       "      <td>81</td>\n",
       "      <td>82</td>\n",
       "      <td>12000000.0</td>\n",
       "      <td>110000.0</td>\n",
       "      <td>27</td>\n",
       "      <td>175</td>\n",
       "      <td>66</td>\n",
       "      <td>Sporting CP</td>\n",
       "      <td>Portuguese Liga ZON SAGRES</td>\n",
       "      <td>1.0</td>\n",
       "      <td>...</td>\n",
       "      <td>59</td>\n",
       "      <td>59</td>\n",
       "      <td>59</td>\n",
       "      <td>58</td>\n",
       "      <td>50</td>\n",
       "      <td>42</td>\n",
       "      <td>42</td>\n",
       "      <td>42</td>\n",
       "      <td>50</td>\n",
       "      <td>11</td>\n",
       "    </tr>\n",
       "    <tr>\n",
       "      <th>187</th>\n",
       "      <td>81</td>\n",
       "      <td>83</td>\n",
       "      <td>14000000.0</td>\n",
       "      <td>130000.0</td>\n",
       "      <td>26</td>\n",
       "      <td>175</td>\n",
       "      <td>71</td>\n",
       "      <td>Real Madrid CF</td>\n",
       "      <td>Spain Primera Division</td>\n",
       "      <td>1.0</td>\n",
       "      <td>...</td>\n",
       "      <td>53+1</td>\n",
       "      <td>53+1</td>\n",
       "      <td>53+1</td>\n",
       "      <td>54+1</td>\n",
       "      <td>51+1</td>\n",
       "      <td>46+1</td>\n",
       "      <td>46+1</td>\n",
       "      <td>46+1</td>\n",
       "      <td>51+1</td>\n",
       "      <td>16+1</td>\n",
       "    </tr>\n",
       "    <tr>\n",
       "      <th>...</th>\n",
       "      <td>...</td>\n",
       "      <td>...</td>\n",
       "      <td>...</td>\n",
       "      <td>...</td>\n",
       "      <td>...</td>\n",
       "      <td>...</td>\n",
       "      <td>...</td>\n",
       "      <td>...</td>\n",
       "      <td>...</td>\n",
       "      <td>...</td>\n",
       "      <td>...</td>\n",
       "      <td>...</td>\n",
       "      <td>...</td>\n",
       "      <td>...</td>\n",
       "      <td>...</td>\n",
       "      <td>...</td>\n",
       "      <td>...</td>\n",
       "      <td>...</td>\n",
       "      <td>...</td>\n",
       "      <td>...</td>\n",
       "      <td>...</td>\n",
       "    </tr>\n",
       "    <tr>\n",
       "      <th>141765</th>\n",
       "      <td>51</td>\n",
       "      <td>65</td>\n",
       "      <td>140000.0</td>\n",
       "      <td>4000.0</td>\n",
       "      <td>21</td>\n",
       "      <td>168</td>\n",
       "      <td>66</td>\n",
       "      <td>Al Raed</td>\n",
       "      <td>Saudi Abdul L. Jameel League</td>\n",
       "      <td>1.0</td>\n",
       "      <td>...</td>\n",
       "      <td>48+2</td>\n",
       "      <td>48+2</td>\n",
       "      <td>48+2</td>\n",
       "      <td>47+2</td>\n",
       "      <td>46+2</td>\n",
       "      <td>46+2</td>\n",
       "      <td>46+2</td>\n",
       "      <td>46+2</td>\n",
       "      <td>46+2</td>\n",
       "      <td>17+2</td>\n",
       "    </tr>\n",
       "    <tr>\n",
       "      <th>141769</th>\n",
       "      <td>51</td>\n",
       "      <td>59</td>\n",
       "      <td>120000.0</td>\n",
       "      <td>2000.0</td>\n",
       "      <td>21</td>\n",
       "      <td>192</td>\n",
       "      <td>77</td>\n",
       "      <td>Wuhan FC</td>\n",
       "      <td>Chinese Super League</td>\n",
       "      <td>1.0</td>\n",
       "      <td>...</td>\n",
       "      <td>43+2</td>\n",
       "      <td>43+2</td>\n",
       "      <td>43+2</td>\n",
       "      <td>44+2</td>\n",
       "      <td>47+2</td>\n",
       "      <td>51+2</td>\n",
       "      <td>51+2</td>\n",
       "      <td>51+2</td>\n",
       "      <td>47+2</td>\n",
       "      <td>13+2</td>\n",
       "    </tr>\n",
       "    <tr>\n",
       "      <th>141771</th>\n",
       "      <td>51</td>\n",
       "      <td>64</td>\n",
       "      <td>140000.0</td>\n",
       "      <td>500.0</td>\n",
       "      <td>20</td>\n",
       "      <td>174</td>\n",
       "      <td>70</td>\n",
       "      <td>SC East Bengal FC</td>\n",
       "      <td>Indian Super League</td>\n",
       "      <td>1.0</td>\n",
       "      <td>...</td>\n",
       "      <td>35+2</td>\n",
       "      <td>35+2</td>\n",
       "      <td>35+2</td>\n",
       "      <td>41+2</td>\n",
       "      <td>39+2</td>\n",
       "      <td>34+2</td>\n",
       "      <td>34+2</td>\n",
       "      <td>34+2</td>\n",
       "      <td>39+2</td>\n",
       "      <td>15+2</td>\n",
       "    </tr>\n",
       "    <tr>\n",
       "      <th>141881</th>\n",
       "      <td>50</td>\n",
       "      <td>61</td>\n",
       "      <td>110000.0</td>\n",
       "      <td>500.0</td>\n",
       "      <td>22</td>\n",
       "      <td>175</td>\n",
       "      <td>59</td>\n",
       "      <td>SC East Bengal FC</td>\n",
       "      <td>Indian Super League</td>\n",
       "      <td>1.0</td>\n",
       "      <td>...</td>\n",
       "      <td>30+2</td>\n",
       "      <td>30+2</td>\n",
       "      <td>30+2</td>\n",
       "      <td>34+2</td>\n",
       "      <td>33+2</td>\n",
       "      <td>27+2</td>\n",
       "      <td>27+2</td>\n",
       "      <td>27+2</td>\n",
       "      <td>33+2</td>\n",
       "      <td>12+2</td>\n",
       "    </tr>\n",
       "    <tr>\n",
       "      <th>142027</th>\n",
       "      <td>48</td>\n",
       "      <td>53</td>\n",
       "      <td>70000.0</td>\n",
       "      <td>3000.0</td>\n",
       "      <td>20</td>\n",
       "      <td>172</td>\n",
       "      <td>65</td>\n",
       "      <td>Henan Songshan Longmen FC</td>\n",
       "      <td>Chinese Super League</td>\n",
       "      <td>1.0</td>\n",
       "      <td>...</td>\n",
       "      <td>30+2</td>\n",
       "      <td>30+2</td>\n",
       "      <td>30+2</td>\n",
       "      <td>33+2</td>\n",
       "      <td>32+2</td>\n",
       "      <td>29+2</td>\n",
       "      <td>29+2</td>\n",
       "      <td>29+2</td>\n",
       "      <td>32+2</td>\n",
       "      <td>15+2</td>\n",
       "    </tr>\n",
       "  </tbody>\n",
       "</table>\n",
       "<p>8308 rows × 89 columns</p>\n",
       "</div>"
      ],
      "text/plain": [
       "        overall  potential   value_eur  wage_eur  age  height_cm  weight_kg  \\\n",
       "10           88         88  46500000.0  250000.0   28        177         72   \n",
       "72           83         83  17000000.0  140000.0   28        186         79   \n",
       "159          81         81  10500000.0  110000.0   30        186         78   \n",
       "165          81         82  12000000.0  110000.0   27        175         66   \n",
       "187          81         83  14000000.0  130000.0   26        175         71   \n",
       "...         ...        ...         ...       ...  ...        ...        ...   \n",
       "141765       51         65    140000.0    4000.0   21        168         66   \n",
       "141769       51         59    120000.0    2000.0   21        192         77   \n",
       "141771       51         64    140000.0     500.0   20        174         70   \n",
       "141881       50         61    110000.0     500.0   22        175         59   \n",
       "142027       48         53     70000.0    3000.0   20        172         65   \n",
       "\n",
       "                        club_name                   league_name  league_level  \\\n",
       "10              Manchester United        English Premier League           1.0   \n",
       "72                    Valencia CF        Spain Primera Division           1.0   \n",
       "159                      AC Milan               Italian Serie A           1.0   \n",
       "165                   Sporting CP    Portuguese Liga ZON SAGRES           1.0   \n",
       "187                Real Madrid CF        Spain Primera Division           1.0   \n",
       "...                           ...                           ...           ...   \n",
       "141765                    Al Raed  Saudi Abdul L. Jameel League           1.0   \n",
       "141769                   Wuhan FC          Chinese Super League           1.0   \n",
       "141771          SC East Bengal FC           Indian Super League           1.0   \n",
       "141881          SC East Bengal FC           Indian Super League           1.0   \n",
       "142027  Henan Songshan Longmen FC          Chinese Super League           1.0   \n",
       "\n",
       "        ...   ldm   cdm   rdm   rwb    lb   lcb    cb   rcb    rb    gk  \n",
       "10      ...  60+2  60+2  60+2  58+2  56+2  55+2  55+2  55+2  56+2  14+2  \n",
       "72      ...  62+1  62+1  62+1  57+1  55+1  57+1  57+1  57+1  55+1  14+1  \n",
       "159     ...  58+1  58+1  58+1  57+1  53+1  49+1  49+1  49+1  53+1  16+1  \n",
       "165     ...    59    59    59    58    50    42    42    42    50    11  \n",
       "187     ...  53+1  53+1  53+1  54+1  51+1  46+1  46+1  46+1  51+1  16+1  \n",
       "...     ...   ...   ...   ...   ...   ...   ...   ...   ...   ...   ...  \n",
       "141765  ...  48+2  48+2  48+2  47+2  46+2  46+2  46+2  46+2  46+2  17+2  \n",
       "141769  ...  43+2  43+2  43+2  44+2  47+2  51+2  51+2  51+2  47+2  13+2  \n",
       "141771  ...  35+2  35+2  35+2  41+2  39+2  34+2  34+2  34+2  39+2  15+2  \n",
       "141881  ...  30+2  30+2  30+2  34+2  33+2  27+2  27+2  27+2  33+2  12+2  \n",
       "142027  ...  30+2  30+2  30+2  33+2  32+2  29+2  29+2  29+2  32+2  15+2  \n",
       "\n",
       "[8308 rows x 89 columns]"
      ]
     },
     "execution_count": 57,
     "metadata": {},
     "output_type": "execute_result"
    }
   ],
   "source": [
    "df[df['club_joined'].isnull()]"
   ]
  },
  {
   "cell_type": "code",
   "execution_count": 58,
   "metadata": {},
   "outputs": [],
   "source": [
    "df.drop(df[df['club_joined'].isnull()].index , axis = 0 , inplace =True)\n"
   ]
  },
  {
   "cell_type": "code",
   "execution_count": 59,
   "metadata": {},
   "outputs": [
    {
     "name": "stderr",
     "output_type": "stream",
     "text": [
      "C:\\Users\\HP.SXS04\\AppData\\Local\\Temp\\ipykernel_1344\\2199519623.py:1: SettingWithCopyWarning: \n",
      "A value is trying to be set on a copy of a slice from a DataFrame\n",
      "\n",
      "See the caveats in the documentation: https://pandas.pydata.org/pandas-docs/stable/user_guide/indexing.html#returning-a-view-versus-a-copy\n",
      "  df_prt1.drop(df_prt1[df_prt1['club_joined'].isnull()].index , axis = 0 , inplace =True)\n"
     ]
    }
   ],
   "source": [
    "df_prt1.drop(df_prt1[df_prt1['club_joined'].isnull()].index , axis = 0 , inplace =True)"
   ]
  },
  {
   "cell_type": "code",
   "execution_count": 60,
   "metadata": {},
   "outputs": [
    {
     "data": {
      "text/plain": [
       "overall                        0\n",
       "potential                      0\n",
       "value_eur                      0\n",
       "wage_eur                       0\n",
       "age                            0\n",
       "height_cm                      0\n",
       "weight_kg                      0\n",
       "club_name                      0\n",
       "league_name                    0\n",
       "league_level                 385\n",
       "club_position                  0\n",
       "club_jersey_number             0\n",
       "club_joined                    0\n",
       "club_contract_valid_until      0\n",
       "nationality_name               0\n",
       "preferred_foot                 0\n",
       "weak_foot                      0\n",
       "skill_moves                    0\n",
       "international_reputation       0\n",
       "work_rate                      0\n",
       "release_clause_eur             0\n",
       "pace                           0\n",
       "shooting                       0\n",
       "passing                        0\n",
       "dtype: int64"
      ]
     },
     "execution_count": 60,
     "metadata": {},
     "output_type": "execute_result"
    }
   ],
   "source": [
    "df_prt1.isnull().sum()"
   ]
  },
  {
   "cell_type": "code",
   "execution_count": 61,
   "metadata": {},
   "outputs": [],
   "source": [
    "df.drop(df[df['league_level'].isnull()].index , axis = 0 , inplace = True )"
   ]
  },
  {
   "cell_type": "code",
   "execution_count": 62,
   "metadata": {},
   "outputs": [
    {
     "name": "stderr",
     "output_type": "stream",
     "text": [
      "C:\\Users\\HP.SXS04\\AppData\\Local\\Temp\\ipykernel_1344\\1496962860.py:1: SettingWithCopyWarning: \n",
      "A value is trying to be set on a copy of a slice from a DataFrame\n",
      "\n",
      "See the caveats in the documentation: https://pandas.pydata.org/pandas-docs/stable/user_guide/indexing.html#returning-a-view-versus-a-copy\n",
      "  df_prt1.drop(df_prt1[df_prt1['league_level'].isnull()].index , axis = 0 , inplace = True )\n"
     ]
    }
   ],
   "source": [
    "df_prt1.drop(df_prt1[df_prt1['league_level'].isnull()].index , axis = 0 , inplace = True )"
   ]
  },
  {
   "cell_type": "code",
   "execution_count": 63,
   "metadata": {},
   "outputs": [],
   "source": [
    "## part2 of data \n",
    "df_prt2 = df[['dribbling', 'defending',\n",
    "       'physic', 'attacking_crossing', 'attacking_finishing',\n",
    "       'attacking_heading_accuracy', 'attacking_short_passing',\n",
    "       'attacking_volleys', 'skill_dribbling', 'skill_curve',\n",
    "       'skill_fk_accuracy', 'skill_long_passing', 'skill_ball_control',\n",
    "       'movement_acceleration', 'movement_sprint_speed', 'movement_agility',\n",
    "       'movement_reactions', 'movement_balance', 'power_shot_power','power_jumping', 'power_stamina', 'power_strength', 'power_long_shots',\n",
    "       'mentality_aggression', 'mentality_interceptions','mentality_positioning', 'mentality_vision', 'mentality_penalties']]"
   ]
  },
  {
   "cell_type": "code",
   "execution_count": 64,
   "metadata": {},
   "outputs": [
    {
     "data": {
      "text/plain": [
       "dribbling                     14864\n",
       "defending                     14864\n",
       "physic                        14864\n",
       "attacking_crossing                0\n",
       "attacking_finishing               0\n",
       "attacking_heading_accuracy        0\n",
       "attacking_short_passing           0\n",
       "attacking_volleys                 0\n",
       "skill_dribbling                   0\n",
       "skill_curve                       0\n",
       "skill_fk_accuracy                 0\n",
       "skill_long_passing                0\n",
       "skill_ball_control                0\n",
       "movement_acceleration             0\n",
       "movement_sprint_speed             0\n",
       "movement_agility                  0\n",
       "movement_reactions                0\n",
       "movement_balance                  0\n",
       "power_shot_power                  0\n",
       "power_jumping                     0\n",
       "power_stamina                     0\n",
       "power_strength                    0\n",
       "power_long_shots                  0\n",
       "mentality_aggression              0\n",
       "mentality_interceptions           0\n",
       "mentality_positioning             0\n",
       "mentality_vision                  0\n",
       "mentality_penalties               0\n",
       "dtype: int64"
      ]
     },
     "execution_count": 64,
     "metadata": {},
     "output_type": "execute_result"
    }
   ],
   "source": [
    "## get the number of the missing data part(2)\n",
    "df_prt2.isnull().sum()"
   ]
  },
  {
   "cell_type": "code",
   "execution_count": 65,
   "metadata": {},
   "outputs": [
    {
     "data": {
      "text/plain": [
       "dribbling                     11.304368\n",
       "defending                     11.304368\n",
       "physic                        11.304368\n",
       "attacking_crossing             0.000000\n",
       "attacking_finishing            0.000000\n",
       "attacking_heading_accuracy     0.000000\n",
       "attacking_short_passing        0.000000\n",
       "attacking_volleys              0.000000\n",
       "skill_dribbling                0.000000\n",
       "skill_curve                    0.000000\n",
       "skill_fk_accuracy              0.000000\n",
       "skill_long_passing             0.000000\n",
       "skill_ball_control             0.000000\n",
       "movement_acceleration          0.000000\n",
       "movement_sprint_speed          0.000000\n",
       "movement_agility               0.000000\n",
       "movement_reactions             0.000000\n",
       "movement_balance               0.000000\n",
       "power_shot_power               0.000000\n",
       "power_jumping                  0.000000\n",
       "power_stamina                  0.000000\n",
       "power_strength                 0.000000\n",
       "power_long_shots               0.000000\n",
       "mentality_aggression           0.000000\n",
       "mentality_interceptions        0.000000\n",
       "mentality_positioning          0.000000\n",
       "mentality_vision               0.000000\n",
       "mentality_penalties            0.000000\n",
       "dtype: float64"
      ]
     },
     "execution_count": 65,
     "metadata": {},
     "output_type": "execute_result"
    }
   ],
   "source": [
    "### missin percentage \n",
    "df_prt2.isnull().mean()*100"
   ]
  },
  {
   "cell_type": "code",
   "execution_count": 66,
   "metadata": {},
   "outputs": [
    {
     "data": {
      "text/plain": [
       "count    116625.000000\n",
       "mean         61.894036\n",
       "std          10.415119\n",
       "min          22.000000\n",
       "25%          56.000000\n",
       "50%          63.000000\n",
       "75%          69.000000\n",
       "max          96.000000\n",
       "Name: dribbling, dtype: float64"
      ]
     },
     "execution_count": 66,
     "metadata": {},
     "output_type": "execute_result"
    }
   ],
   "source": [
    "## HANDLE DRIPLING , DEFENDING , PHYSIC\n",
    "df.dribbling.describe()"
   ]
  },
  {
   "cell_type": "code",
   "execution_count": 67,
   "metadata": {},
   "outputs": [
    {
     "data": {
      "text/plain": [
       "count    116625.000000\n",
       "mean         51.158268\n",
       "std          16.633085\n",
       "min          14.000000\n",
       "25%          36.000000\n",
       "50%          56.000000\n",
       "75%          64.000000\n",
       "max          91.000000\n",
       "Name: defending, dtype: float64"
      ]
     },
     "execution_count": 67,
     "metadata": {},
     "output_type": "execute_result"
    }
   ],
   "source": [
    "df.defending.describe()"
   ]
  },
  {
   "cell_type": "code",
   "execution_count": 68,
   "metadata": {},
   "outputs": [
    {
     "data": {
      "text/plain": [
       "count    116625.000000\n",
       "mean         64.860896\n",
       "std           9.760671\n",
       "min          27.000000\n",
       "25%          59.000000\n",
       "50%          66.000000\n",
       "75%          72.000000\n",
       "max          92.000000\n",
       "Name: physic, dtype: float64"
      ]
     },
     "execution_count": 68,
     "metadata": {},
     "output_type": "execute_result"
    }
   ],
   "source": [
    "df.physic.describe()"
   ]
  },
  {
   "cell_type": "code",
   "execution_count": 69,
   "metadata": {},
   "outputs": [],
   "source": [
    "df.dribbling.fillna(df.dribbling.mean() , axis = 0 , inplace =True)"
   ]
  },
  {
   "cell_type": "code",
   "execution_count": 70,
   "metadata": {},
   "outputs": [
    {
     "name": "stderr",
     "output_type": "stream",
     "text": [
      "C:\\Users\\HP.SXS04\\AppData\\Local\\Temp\\ipykernel_1344\\1304634353.py:1: SettingWithCopyWarning: \n",
      "A value is trying to be set on a copy of a slice from a DataFrame\n",
      "\n",
      "See the caveats in the documentation: https://pandas.pydata.org/pandas-docs/stable/user_guide/indexing.html#returning-a-view-versus-a-copy\n",
      "  df_prt2.dribbling.fillna(df_prt2.dribbling.mean() , axis = 0 , inplace =True)\n"
     ]
    }
   ],
   "source": [
    "df_prt2.dribbling.fillna(df_prt2.dribbling.mean() , axis = 0 , inplace =True)"
   ]
  },
  {
   "cell_type": "code",
   "execution_count": 71,
   "metadata": {},
   "outputs": [],
   "source": [
    "df.defending.fillna(df.defending.mean() , axis = 0 , inplace =True)"
   ]
  },
  {
   "cell_type": "code",
   "execution_count": 72,
   "metadata": {},
   "outputs": [
    {
     "name": "stderr",
     "output_type": "stream",
     "text": [
      "C:\\Users\\HP.SXS04\\AppData\\Local\\Temp\\ipykernel_1344\\111250320.py:1: SettingWithCopyWarning: \n",
      "A value is trying to be set on a copy of a slice from a DataFrame\n",
      "\n",
      "See the caveats in the documentation: https://pandas.pydata.org/pandas-docs/stable/user_guide/indexing.html#returning-a-view-versus-a-copy\n",
      "  df_prt2.defending.fillna(df_prt2.defending.mean() , axis = 0 , inplace =True)\n"
     ]
    }
   ],
   "source": [
    "df_prt2.defending.fillna(df_prt2.defending.mean() , axis = 0 , inplace =True)"
   ]
  },
  {
   "cell_type": "code",
   "execution_count": 73,
   "metadata": {},
   "outputs": [],
   "source": [
    "df.physic.fillna(df.physic.mean() , axis = 0 , inplace =True)"
   ]
  },
  {
   "cell_type": "code",
   "execution_count": 74,
   "metadata": {},
   "outputs": [
    {
     "name": "stderr",
     "output_type": "stream",
     "text": [
      "C:\\Users\\HP.SXS04\\AppData\\Local\\Temp\\ipykernel_1344\\2385400230.py:1: SettingWithCopyWarning: \n",
      "A value is trying to be set on a copy of a slice from a DataFrame\n",
      "\n",
      "See the caveats in the documentation: https://pandas.pydata.org/pandas-docs/stable/user_guide/indexing.html#returning-a-view-versus-a-copy\n",
      "  df_prt2.physic.fillna(df_prt2.physic.mean() , axis = 0 , inplace =True)\n"
     ]
    }
   ],
   "source": [
    "df_prt2.physic.fillna(df_prt2.physic.mean() , axis = 0 , inplace =True)"
   ]
  },
  {
   "cell_type": "code",
   "execution_count": 75,
   "metadata": {},
   "outputs": [
    {
     "data": {
      "text/plain": [
       "dribbling                     0\n",
       "defending                     0\n",
       "physic                        0\n",
       "attacking_crossing            0\n",
       "attacking_finishing           0\n",
       "attacking_heading_accuracy    0\n",
       "attacking_short_passing       0\n",
       "attacking_volleys             0\n",
       "skill_dribbling               0\n",
       "skill_curve                   0\n",
       "skill_fk_accuracy             0\n",
       "skill_long_passing            0\n",
       "skill_ball_control            0\n",
       "movement_acceleration         0\n",
       "movement_sprint_speed         0\n",
       "movement_agility              0\n",
       "movement_reactions            0\n",
       "movement_balance              0\n",
       "power_shot_power              0\n",
       "power_jumping                 0\n",
       "power_stamina                 0\n",
       "power_strength                0\n",
       "power_long_shots              0\n",
       "mentality_aggression          0\n",
       "mentality_interceptions       0\n",
       "mentality_positioning         0\n",
       "mentality_vision              0\n",
       "mentality_penalties           0\n",
       "dtype: int64"
      ]
     },
     "execution_count": 75,
     "metadata": {},
     "output_type": "execute_result"
    }
   ],
   "source": [
    "df_prt2.isnull().sum()"
   ]
  },
  {
   "cell_type": "code",
   "execution_count": 76,
   "metadata": {},
   "outputs": [],
   "source": [
    "## data part(3)\n",
    "df_prt3 = df[['mentality_composure', 'defending_marking_awareness',\n",
    "       'defending_standing_tackle', 'defending_sliding_tackle',\n",
    "       'goalkeeping_diving', 'goalkeeping_handling', 'goalkeeping_kicking',\n",
    "       'goalkeeping_positioning', 'goalkeeping_reflexes', 'goalkeeping_speed',\n",
    "       'ls', 'st', 'rs', 'lw', 'lf', 'cf', 'rf', 'rw', 'lam', 'cam', 'ram','lm', 'lcm', 'cm', 'rcm', 'rm', 'lwb', 'ldm']]"
   ]
  },
  {
   "cell_type": "code",
   "execution_count": 77,
   "metadata": {},
   "outputs": [
    {
     "data": {
      "text/plain": [
       "mentality_composure             29260\n",
       "defending_marking_awareness         0\n",
       "defending_standing_tackle           0\n",
       "defending_sliding_tackle            0\n",
       "goalkeeping_diving                  0\n",
       "goalkeeping_handling                0\n",
       "goalkeeping_kicking                 0\n",
       "goalkeeping_positioning             0\n",
       "goalkeeping_reflexes                0\n",
       "goalkeeping_speed              116625\n",
       "ls                                  0\n",
       "st                                  0\n",
       "rs                                  0\n",
       "lw                                  0\n",
       "lf                                  0\n",
       "cf                                  0\n",
       "rf                                  0\n",
       "rw                                  0\n",
       "lam                                 0\n",
       "cam                                 0\n",
       "ram                                 0\n",
       "lm                                  0\n",
       "lcm                                 0\n",
       "cm                                  0\n",
       "rcm                                 0\n",
       "rm                                  0\n",
       "lwb                                 0\n",
       "ldm                                 0\n",
       "dtype: int64"
      ]
     },
     "execution_count": 77,
     "metadata": {},
     "output_type": "execute_result"
    }
   ],
   "source": [
    "df_prt3.isnull().sum()"
   ]
  },
  {
   "cell_type": "code",
   "execution_count": 78,
   "metadata": {},
   "outputs": [
    {
     "data": {
      "text/plain": [
       "mentality_composure            22.252812\n",
       "defending_marking_awareness     0.000000\n",
       "defending_standing_tackle       0.000000\n",
       "defending_sliding_tackle        0.000000\n",
       "goalkeeping_diving              0.000000\n",
       "goalkeeping_handling            0.000000\n",
       "goalkeeping_kicking             0.000000\n",
       "goalkeeping_positioning         0.000000\n",
       "goalkeeping_reflexes            0.000000\n",
       "goalkeeping_speed              88.695632\n",
       "ls                              0.000000\n",
       "st                              0.000000\n",
       "rs                              0.000000\n",
       "lw                              0.000000\n",
       "lf                              0.000000\n",
       "cf                              0.000000\n",
       "rf                              0.000000\n",
       "rw                              0.000000\n",
       "lam                             0.000000\n",
       "cam                             0.000000\n",
       "ram                             0.000000\n",
       "lm                              0.000000\n",
       "lcm                             0.000000\n",
       "cm                              0.000000\n",
       "rcm                             0.000000\n",
       "rm                              0.000000\n",
       "lwb                             0.000000\n",
       "ldm                             0.000000\n",
       "dtype: float64"
      ]
     },
     "execution_count": 78,
     "metadata": {},
     "output_type": "execute_result"
    }
   ],
   "source": [
    "df_prt3.isnull().mean()*100"
   ]
  },
  {
   "cell_type": "code",
   "execution_count": 79,
   "metadata": {},
   "outputs": [
    {
     "data": {
      "text/plain": [
       "count    102229.000000\n",
       "mean         57.688934\n",
       "std          12.453684\n",
       "min           3.000000\n",
       "25%          50.000000\n",
       "50%          59.000000\n",
       "75%          66.000000\n",
       "max          96.000000\n",
       "Name: mentality_composure, dtype: float64"
      ]
     },
     "execution_count": 79,
     "metadata": {},
     "output_type": "execute_result"
    }
   ],
   "source": [
    "df.mentality_composure.describe()"
   ]
  },
  {
   "cell_type": "code",
   "execution_count": 80,
   "metadata": {},
   "outputs": [],
   "source": [
    "df.mentality_composure.fillna(df.mentality_composure.mean() , axis = 0 , inplace =True)"
   ]
  },
  {
   "cell_type": "code",
   "execution_count": 81,
   "metadata": {},
   "outputs": [
    {
     "name": "stderr",
     "output_type": "stream",
     "text": [
      "C:\\Users\\HP.SXS04\\AppData\\Local\\Temp\\ipykernel_1344\\3325233523.py:1: SettingWithCopyWarning: \n",
      "A value is trying to be set on a copy of a slice from a DataFrame\n",
      "\n",
      "See the caveats in the documentation: https://pandas.pydata.org/pandas-docs/stable/user_guide/indexing.html#returning-a-view-versus-a-copy\n",
      "  df_prt3.mentality_composure.fillna(df_prt3.mentality_composure.mean() , axis = 0 , inplace =True)\n"
     ]
    }
   ],
   "source": [
    "df_prt3.mentality_composure.fillna(df_prt3.mentality_composure.mean() , axis = 0 , inplace =True)"
   ]
  },
  {
   "cell_type": "code",
   "execution_count": 82,
   "metadata": {},
   "outputs": [],
   "source": [
    "df.goalkeeping_speed .fillna(df.goalkeeping_speed .mean() , axis = 0 , inplace =True)"
   ]
  },
  {
   "cell_type": "code",
   "execution_count": 83,
   "metadata": {},
   "outputs": [
    {
     "name": "stderr",
     "output_type": "stream",
     "text": [
      "C:\\Users\\HP.SXS04\\AppData\\Local\\Temp\\ipykernel_1344\\3597964151.py:1: SettingWithCopyWarning: \n",
      "A value is trying to be set on a copy of a slice from a DataFrame\n",
      "\n",
      "See the caveats in the documentation: https://pandas.pydata.org/pandas-docs/stable/user_guide/indexing.html#returning-a-view-versus-a-copy\n",
      "  df_prt3.goalkeeping_speed .fillna(df_prt3.goalkeeping_speed .mean() , axis = 0 , inplace =True)\n"
     ]
    }
   ],
   "source": [
    "df_prt3.goalkeeping_speed .fillna(df_prt3.goalkeeping_speed .mean() , axis = 0 , inplace =True)"
   ]
  },
  {
   "cell_type": "code",
   "execution_count": 84,
   "metadata": {},
   "outputs": [
    {
     "data": {
      "text/plain": [
       "mentality_composure            0\n",
       "defending_marking_awareness    0\n",
       "defending_standing_tackle      0\n",
       "defending_sliding_tackle       0\n",
       "goalkeeping_diving             0\n",
       "goalkeeping_handling           0\n",
       "goalkeeping_kicking            0\n",
       "goalkeeping_positioning        0\n",
       "goalkeeping_reflexes           0\n",
       "goalkeeping_speed              0\n",
       "ls                             0\n",
       "st                             0\n",
       "rs                             0\n",
       "lw                             0\n",
       "lf                             0\n",
       "cf                             0\n",
       "rf                             0\n",
       "rw                             0\n",
       "lam                            0\n",
       "cam                            0\n",
       "ram                            0\n",
       "lm                             0\n",
       "lcm                            0\n",
       "cm                             0\n",
       "rcm                            0\n",
       "rm                             0\n",
       "lwb                            0\n",
       "ldm                            0\n",
       "dtype: int64"
      ]
     },
     "execution_count": 84,
     "metadata": {},
     "output_type": "execute_result"
    }
   ],
   "source": [
    "df_prt3.isnull().sum()"
   ]
  },
  {
   "cell_type": "code",
   "execution_count": 85,
   "metadata": {},
   "outputs": [],
   "source": [
    "df_prt4 = df[['cdm', 'rdm', 'rwb', 'lb',\n",
    "       'lcb', 'cb', 'rcb', 'rb', 'gk']]"
   ]
  },
  {
   "cell_type": "code",
   "execution_count": 86,
   "metadata": {},
   "outputs": [
    {
     "data": {
      "text/plain": [
       "cdm    0\n",
       "rdm    0\n",
       "rwb    0\n",
       "lb     0\n",
       "lcb    0\n",
       "cb     0\n",
       "rcb    0\n",
       "rb     0\n",
       "gk     0\n",
       "dtype: int64"
      ]
     },
     "execution_count": 86,
     "metadata": {},
     "output_type": "execute_result"
    }
   ],
   "source": [
    "df_prt4.isnull().sum()"
   ]
  },
  {
   "cell_type": "code",
   "execution_count": 87,
   "metadata": {},
   "outputs": [],
   "source": [
    "## now after i handled all the missing data we will start to explore data and start feautre engineering process"
   ]
  },
  {
   "attachments": {},
   "cell_type": "markdown",
   "metadata": {},
   "source": [
    "## feture engineering"
   ]
  },
  {
   "cell_type": "code",
   "execution_count": 88,
   "metadata": {},
   "outputs": [
    {
     "data": {
      "text/plain": [
       "Index(['overall', 'potential', 'value_eur', 'wage_eur', 'age', 'height_cm',\n",
       "       'weight_kg', 'club_name', 'league_name', 'league_level',\n",
       "       'club_position', 'club_jersey_number', 'club_joined',\n",
       "       'club_contract_valid_until', 'nationality_name', 'preferred_foot',\n",
       "       'weak_foot', 'skill_moves', 'international_reputation', 'work_rate',\n",
       "       'release_clause_eur', 'pace', 'shooting', 'passing', 'dribbling',\n",
       "       'defending', 'physic', 'attacking_crossing', 'attacking_finishing',\n",
       "       'attacking_heading_accuracy', 'attacking_short_passing',\n",
       "       'attacking_volleys', 'skill_dribbling', 'skill_curve',\n",
       "       'skill_fk_accuracy', 'skill_long_passing', 'skill_ball_control',\n",
       "       'movement_acceleration', 'movement_sprint_speed', 'movement_agility',\n",
       "       'movement_reactions', 'movement_balance', 'power_shot_power',\n",
       "       'power_jumping', 'power_stamina', 'power_strength', 'power_long_shots',\n",
       "       'mentality_aggression', 'mentality_interceptions',\n",
       "       'mentality_positioning', 'mentality_vision', 'mentality_penalties',\n",
       "       'mentality_composure', 'defending_marking_awareness',\n",
       "       'defending_standing_tackle', 'defending_sliding_tackle',\n",
       "       'goalkeeping_diving', 'goalkeeping_handling', 'goalkeeping_kicking',\n",
       "       'goalkeeping_positioning', 'goalkeeping_reflexes', 'goalkeeping_speed',\n",
       "       'ls', 'st', 'rs', 'lw', 'lf', 'cf', 'rf', 'rw', 'lam', 'cam', 'ram',\n",
       "       'lm', 'lcm', 'cm', 'rcm', 'rm', 'lwb', 'ldm', 'cdm', 'rdm', 'rwb', 'lb',\n",
       "       'lcb', 'cb', 'rcb', 'rb', 'gk'],\n",
       "      dtype='object')"
      ]
     },
     "execution_count": 88,
     "metadata": {},
     "output_type": "execute_result"
    }
   ],
   "source": [
    "df.columns"
   ]
  },
  {
   "cell_type": "code",
   "execution_count": 89,
   "metadata": {},
   "outputs": [],
   "source": [
    "## i can extract new feature (loyality ) as it indicate how many year did player stay in club and if it will make a difference in the value or not \n",
    "df.club_joined = df.club_joined.astype('datetime64[ns]')"
   ]
  },
  {
   "cell_type": "code",
   "execution_count": 90,
   "metadata": {},
   "outputs": [],
   "source": [
    "df.club_joined = df.club_joined.dt.year"
   ]
  },
  {
   "cell_type": "code",
   "execution_count": 91,
   "metadata": {},
   "outputs": [],
   "source": [
    "df['loyality'] = df.club_contract_valid_until - df.club_joined"
   ]
  },
  {
   "cell_type": "code",
   "execution_count": 92,
   "metadata": {},
   "outputs": [
    {
     "data": {
      "text/plain": [
       "count    131489.000000\n",
       "mean          4.016229\n",
       "std           2.512183\n",
       "min           0.000000\n",
       "25%           2.000000\n",
       "50%           3.000000\n",
       "75%           5.000000\n",
       "max          30.000000\n",
       "Name: loyality, dtype: float64"
      ]
     },
     "execution_count": 92,
     "metadata": {},
     "output_type": "execute_result"
    }
   ],
   "source": [
    "df.loyality.describe()"
   ]
  },
  {
   "cell_type": "code",
   "execution_count": 93,
   "metadata": {},
   "outputs": [
    {
     "data": {
      "text/plain": [
       "Medium/Medium    73024\n",
       "High/Medium      22128\n",
       "Medium/High      11857\n",
       "High/High         6312\n",
       "Medium/Low        6298\n",
       "High/Low          5146\n",
       "Low/Medium        3290\n",
       "Low/High          3165\n",
       "Low/Low            269\n",
       "Name: work_rate, dtype: int64"
      ]
     },
     "execution_count": 93,
     "metadata": {},
     "output_type": "execute_result"
    }
   ],
   "source": [
    "df.work_rate.value_counts()"
   ]
  },
  {
   "cell_type": "code",
   "execution_count": 94,
   "metadata": {},
   "outputs": [
    {
     "name": "stdout",
     "output_type": "stream",
     "text": [
      "<class 'pandas.core.frame.DataFrame'>\n",
      "Int64Index: 131489 entries, 0 to 142078\n",
      "Data columns (total 33 columns):\n",
      " #   Column            Non-Null Count   Dtype \n",
      "---  ------            --------------   ----- \n",
      " 0   club_name         131489 non-null  object\n",
      " 1   league_name       131489 non-null  object\n",
      " 2   club_position     131489 non-null  object\n",
      " 3   nationality_name  131489 non-null  object\n",
      " 4   preferred_foot    131489 non-null  object\n",
      " 5   work_rate         131489 non-null  object\n",
      " 6   ls                131489 non-null  object\n",
      " 7   st                131489 non-null  object\n",
      " 8   rs                131489 non-null  object\n",
      " 9   lw                131489 non-null  object\n",
      " 10  lf                131489 non-null  object\n",
      " 11  cf                131489 non-null  object\n",
      " 12  rf                131489 non-null  object\n",
      " 13  rw                131489 non-null  object\n",
      " 14  lam               131489 non-null  object\n",
      " 15  cam               131489 non-null  object\n",
      " 16  ram               131489 non-null  object\n",
      " 17  lm                131489 non-null  object\n",
      " 18  lcm               131489 non-null  object\n",
      " 19  cm                131489 non-null  object\n",
      " 20  rcm               131489 non-null  object\n",
      " 21  rm                131489 non-null  object\n",
      " 22  lwb               131489 non-null  object\n",
      " 23  ldm               131489 non-null  object\n",
      " 24  cdm               131489 non-null  object\n",
      " 25  rdm               131489 non-null  object\n",
      " 26  rwb               131489 non-null  object\n",
      " 27  lb                131489 non-null  object\n",
      " 28  lcb               131489 non-null  object\n",
      " 29  cb                131489 non-null  object\n",
      " 30  rcb               131489 non-null  object\n",
      " 31  rb                131489 non-null  object\n",
      " 32  gk                131489 non-null  object\n",
      "dtypes: object(33)\n",
      "memory usage: 34.1+ MB\n"
     ]
    }
   ],
   "source": [
    "#handle last 10 columns as they nedd to remove + from numbers\n",
    "df.select_dtypes('O').info()"
   ]
  },
  {
   "cell_type": "code",
   "execution_count": 95,
   "metadata": {},
   "outputs": [],
   "source": [
    " l = ['ls', 'st', 'rs', 'lw', 'lf', 'cf', 'rf', 'rw', 'lam', 'cam', 'ram',\n",
    "       'lm', 'lcm', 'cm', 'rcm', 'rm', 'lwb', 'ldm', 'cdm', 'rdm', 'rwb', 'lb',\n",
    "       'lcb', 'cb', 'rcb', 'rb', 'gk']"
   ]
  },
  {
   "cell_type": "code",
   "execution_count": 96,
   "metadata": {},
   "outputs": [],
   "source": [
    "for i in l :\n",
    "    df[i]= df[i].str.split(\"-\").str[0]\n"
   ]
  },
  {
   "cell_type": "code",
   "execution_count": 97,
   "metadata": {},
   "outputs": [],
   "source": [
    "for i in l :\n",
    "    df[i]= df[i].str.split(\"+\").str[0]"
   ]
  },
  {
   "cell_type": "code",
   "execution_count": 98,
   "metadata": {},
   "outputs": [
    {
     "name": "stdout",
     "output_type": "stream",
     "text": [
      "lw has nan value\n",
      "lf has nan value\n",
      "cf has nan value\n",
      "rf has nan value\n",
      "rw has nan value\n",
      "gk has nan value\n"
     ]
    }
   ],
   "source": [
    "## this function constructed to show if any columns have a nan value after spliting the data \n",
    "\n",
    "for i in l :\n",
    "    if df[i].isnull().sum() == 0 :\n",
    "        pass\n",
    "    else :\n",
    "        print( i  , \"has nan value\")\n"
   ]
  },
  {
   "cell_type": "code",
   "execution_count": 99,
   "metadata": {},
   "outputs": [],
   "source": [
    "##   i will fill the missing value in [lw,lf,cf,cf .... ] with mean but i dont have the mean because Not all values are int so i cant use df.lw.mean() so i replaced the NAN values with 0 \n",
    "## then i will calculate the mean of all wanted columns then i fill the nan values with \n",
    "##df.lw.mean() == 54\n",
    "##df.lf.mean() == 54\n",
    "##df.cf.mean() == 54\n",
    "##df.rf.mean() == 54\n",
    "##df.rw.mean() == 54\n",
    "##df.gk.mean() == 19"
   ]
  },
  {
   "cell_type": "code",
   "execution_count": 100,
   "metadata": {},
   "outputs": [],
   "source": [
    "df.lw.fillna('54', axis = 0 , inplace = True)"
   ]
  },
  {
   "cell_type": "code",
   "execution_count": 101,
   "metadata": {},
   "outputs": [],
   "source": [
    "df.lf.fillna('54', axis = 0 , inplace = True)"
   ]
  },
  {
   "cell_type": "code",
   "execution_count": 102,
   "metadata": {},
   "outputs": [],
   "source": [
    "df.cf.fillna('54', axis = 0 , inplace = True)"
   ]
  },
  {
   "cell_type": "code",
   "execution_count": 103,
   "metadata": {},
   "outputs": [],
   "source": [
    "df.rf.fillna('54', axis = 0 , inplace = True)"
   ]
  },
  {
   "cell_type": "code",
   "execution_count": 104,
   "metadata": {},
   "outputs": [],
   "source": [
    "df.rw.fillna('54', axis = 0 , inplace = True)"
   ]
  },
  {
   "cell_type": "code",
   "execution_count": 105,
   "metadata": {},
   "outputs": [],
   "source": [
    "df.gk.fillna('19', axis = 0 , inplace = True)"
   ]
  },
  {
   "cell_type": "code",
   "execution_count": 106,
   "metadata": {},
   "outputs": [],
   "source": [
    "for i in l :\n",
    "    df[i]= df[i].astype(int)"
   ]
  },
  {
   "cell_type": "code",
   "execution_count": 107,
   "metadata": {},
   "outputs": [
    {
     "data": {
      "text/html": [
       "<div>\n",
       "<style scoped>\n",
       "    .dataframe tbody tr th:only-of-type {\n",
       "        vertical-align: middle;\n",
       "    }\n",
       "\n",
       "    .dataframe tbody tr th {\n",
       "        vertical-align: top;\n",
       "    }\n",
       "\n",
       "    .dataframe thead th {\n",
       "        text-align: right;\n",
       "    }\n",
       "</style>\n",
       "<table border=\"1\" class=\"dataframe\">\n",
       "  <thead>\n",
       "    <tr style=\"text-align: right;\">\n",
       "      <th></th>\n",
       "      <th>overall</th>\n",
       "      <th>potential</th>\n",
       "      <th>value_eur</th>\n",
       "      <th>wage_eur</th>\n",
       "      <th>age</th>\n",
       "      <th>height_cm</th>\n",
       "      <th>weight_kg</th>\n",
       "      <th>club_name</th>\n",
       "      <th>league_name</th>\n",
       "      <th>league_level</th>\n",
       "      <th>...</th>\n",
       "      <th>cdm</th>\n",
       "      <th>rdm</th>\n",
       "      <th>rwb</th>\n",
       "      <th>lb</th>\n",
       "      <th>lcb</th>\n",
       "      <th>cb</th>\n",
       "      <th>rcb</th>\n",
       "      <th>rb</th>\n",
       "      <th>gk</th>\n",
       "      <th>loyality</th>\n",
       "    </tr>\n",
       "  </thead>\n",
       "  <tbody>\n",
       "    <tr>\n",
       "      <th>0</th>\n",
       "      <td>93</td>\n",
       "      <td>95</td>\n",
       "      <td>100500000.0</td>\n",
       "      <td>550000.0</td>\n",
       "      <td>27</td>\n",
       "      <td>169</td>\n",
       "      <td>67</td>\n",
       "      <td>FC Barcelona</td>\n",
       "      <td>Spain Primera Division</td>\n",
       "      <td>1.0</td>\n",
       "      <td>...</td>\n",
       "      <td>62</td>\n",
       "      <td>62</td>\n",
       "      <td>62</td>\n",
       "      <td>54</td>\n",
       "      <td>45</td>\n",
       "      <td>45</td>\n",
       "      <td>45</td>\n",
       "      <td>54</td>\n",
       "      <td>15</td>\n",
       "      <td>14.0</td>\n",
       "    </tr>\n",
       "    <tr>\n",
       "      <th>1</th>\n",
       "      <td>92</td>\n",
       "      <td>92</td>\n",
       "      <td>79000000.0</td>\n",
       "      <td>375000.0</td>\n",
       "      <td>29</td>\n",
       "      <td>185</td>\n",
       "      <td>80</td>\n",
       "      <td>Real Madrid CF</td>\n",
       "      <td>Spain Primera Division</td>\n",
       "      <td>1.0</td>\n",
       "      <td>...</td>\n",
       "      <td>63</td>\n",
       "      <td>63</td>\n",
       "      <td>63</td>\n",
       "      <td>57</td>\n",
       "      <td>52</td>\n",
       "      <td>52</td>\n",
       "      <td>52</td>\n",
       "      <td>57</td>\n",
       "      <td>16</td>\n",
       "      <td>9.0</td>\n",
       "    </tr>\n",
       "    <tr>\n",
       "      <th>2</th>\n",
       "      <td>90</td>\n",
       "      <td>90</td>\n",
       "      <td>54500000.0</td>\n",
       "      <td>275000.0</td>\n",
       "      <td>30</td>\n",
       "      <td>180</td>\n",
       "      <td>80</td>\n",
       "      <td>FC Bayern München</td>\n",
       "      <td>German 1. Bundesliga</td>\n",
       "      <td>1.0</td>\n",
       "      <td>...</td>\n",
       "      <td>64</td>\n",
       "      <td>64</td>\n",
       "      <td>64</td>\n",
       "      <td>55</td>\n",
       "      <td>46</td>\n",
       "      <td>46</td>\n",
       "      <td>46</td>\n",
       "      <td>55</td>\n",
       "      <td>14</td>\n",
       "      <td>8.0</td>\n",
       "    </tr>\n",
       "    <tr>\n",
       "      <th>3</th>\n",
       "      <td>90</td>\n",
       "      <td>90</td>\n",
       "      <td>52500000.0</td>\n",
       "      <td>275000.0</td>\n",
       "      <td>32</td>\n",
       "      <td>195</td>\n",
       "      <td>95</td>\n",
       "      <td>Paris Saint-Germain</td>\n",
       "      <td>French Ligue 1</td>\n",
       "      <td>1.0</td>\n",
       "      <td>...</td>\n",
       "      <td>65</td>\n",
       "      <td>65</td>\n",
       "      <td>61</td>\n",
       "      <td>56</td>\n",
       "      <td>55</td>\n",
       "      <td>55</td>\n",
       "      <td>55</td>\n",
       "      <td>56</td>\n",
       "      <td>17</td>\n",
       "      <td>4.0</td>\n",
       "    </tr>\n",
       "    <tr>\n",
       "      <th>4</th>\n",
       "      <td>90</td>\n",
       "      <td>90</td>\n",
       "      <td>63500000.0</td>\n",
       "      <td>300000.0</td>\n",
       "      <td>28</td>\n",
       "      <td>193</td>\n",
       "      <td>92</td>\n",
       "      <td>FC Bayern München</td>\n",
       "      <td>German 1. Bundesliga</td>\n",
       "      <td>1.0</td>\n",
       "      <td>...</td>\n",
       "      <td>40</td>\n",
       "      <td>40</td>\n",
       "      <td>36</td>\n",
       "      <td>36</td>\n",
       "      <td>38</td>\n",
       "      <td>38</td>\n",
       "      <td>38</td>\n",
       "      <td>36</td>\n",
       "      <td>87</td>\n",
       "      <td>8.0</td>\n",
       "    </tr>\n",
       "    <tr>\n",
       "      <th>...</th>\n",
       "      <td>...</td>\n",
       "      <td>...</td>\n",
       "      <td>...</td>\n",
       "      <td>...</td>\n",
       "      <td>...</td>\n",
       "      <td>...</td>\n",
       "      <td>...</td>\n",
       "      <td>...</td>\n",
       "      <td>...</td>\n",
       "      <td>...</td>\n",
       "      <td>...</td>\n",
       "      <td>...</td>\n",
       "      <td>...</td>\n",
       "      <td>...</td>\n",
       "      <td>...</td>\n",
       "      <td>...</td>\n",
       "      <td>...</td>\n",
       "      <td>...</td>\n",
       "      <td>...</td>\n",
       "      <td>...</td>\n",
       "      <td>...</td>\n",
       "    </tr>\n",
       "    <tr>\n",
       "      <th>142074</th>\n",
       "      <td>47</td>\n",
       "      <td>52</td>\n",
       "      <td>70000.0</td>\n",
       "      <td>1000.0</td>\n",
       "      <td>22</td>\n",
       "      <td>180</td>\n",
       "      <td>64</td>\n",
       "      <td>Wuhan FC</td>\n",
       "      <td>Chinese Super League</td>\n",
       "      <td>1.0</td>\n",
       "      <td>...</td>\n",
       "      <td>46</td>\n",
       "      <td>46</td>\n",
       "      <td>48</td>\n",
       "      <td>48</td>\n",
       "      <td>46</td>\n",
       "      <td>46</td>\n",
       "      <td>46</td>\n",
       "      <td>48</td>\n",
       "      <td>15</td>\n",
       "      <td>0.0</td>\n",
       "    </tr>\n",
       "    <tr>\n",
       "      <th>142075</th>\n",
       "      <td>47</td>\n",
       "      <td>59</td>\n",
       "      <td>110000.0</td>\n",
       "      <td>500.0</td>\n",
       "      <td>19</td>\n",
       "      <td>175</td>\n",
       "      <td>70</td>\n",
       "      <td>Derry City</td>\n",
       "      <td>Rep. Ireland Airtricity League</td>\n",
       "      <td>1.0</td>\n",
       "      <td>...</td>\n",
       "      <td>46</td>\n",
       "      <td>46</td>\n",
       "      <td>49</td>\n",
       "      <td>48</td>\n",
       "      <td>44</td>\n",
       "      <td>44</td>\n",
       "      <td>44</td>\n",
       "      <td>48</td>\n",
       "      <td>14</td>\n",
       "      <td>0.0</td>\n",
       "    </tr>\n",
       "    <tr>\n",
       "      <th>142076</th>\n",
       "      <td>47</td>\n",
       "      <td>55</td>\n",
       "      <td>100000.0</td>\n",
       "      <td>500.0</td>\n",
       "      <td>21</td>\n",
       "      <td>178</td>\n",
       "      <td>72</td>\n",
       "      <td>Finn Harps</td>\n",
       "      <td>Rep. Ireland Airtricity League</td>\n",
       "      <td>1.0</td>\n",
       "      <td>...</td>\n",
       "      <td>46</td>\n",
       "      <td>46</td>\n",
       "      <td>47</td>\n",
       "      <td>47</td>\n",
       "      <td>45</td>\n",
       "      <td>45</td>\n",
       "      <td>45</td>\n",
       "      <td>47</td>\n",
       "      <td>12</td>\n",
       "      <td>0.0</td>\n",
       "    </tr>\n",
       "    <tr>\n",
       "      <th>142077</th>\n",
       "      <td>47</td>\n",
       "      <td>60</td>\n",
       "      <td>110000.0</td>\n",
       "      <td>500.0</td>\n",
       "      <td>19</td>\n",
       "      <td>173</td>\n",
       "      <td>66</td>\n",
       "      <td>Finn Harps</td>\n",
       "      <td>Rep. Ireland Airtricity League</td>\n",
       "      <td>1.0</td>\n",
       "      <td>...</td>\n",
       "      <td>29</td>\n",
       "      <td>29</td>\n",
       "      <td>33</td>\n",
       "      <td>32</td>\n",
       "      <td>26</td>\n",
       "      <td>26</td>\n",
       "      <td>26</td>\n",
       "      <td>32</td>\n",
       "      <td>15</td>\n",
       "      <td>0.0</td>\n",
       "    </tr>\n",
       "    <tr>\n",
       "      <th>142078</th>\n",
       "      <td>47</td>\n",
       "      <td>60</td>\n",
       "      <td>110000.0</td>\n",
       "      <td>500.0</td>\n",
       "      <td>19</td>\n",
       "      <td>167</td>\n",
       "      <td>61</td>\n",
       "      <td>NorthEast United FC</td>\n",
       "      <td>Indian Super League</td>\n",
       "      <td>1.0</td>\n",
       "      <td>...</td>\n",
       "      <td>44</td>\n",
       "      <td>44</td>\n",
       "      <td>45</td>\n",
       "      <td>45</td>\n",
       "      <td>41</td>\n",
       "      <td>41</td>\n",
       "      <td>41</td>\n",
       "      <td>45</td>\n",
       "      <td>16</td>\n",
       "      <td>4.0</td>\n",
       "    </tr>\n",
       "  </tbody>\n",
       "</table>\n",
       "<p>131489 rows × 90 columns</p>\n",
       "</div>"
      ],
      "text/plain": [
       "        overall  potential    value_eur  wage_eur  age  height_cm  weight_kg  \\\n",
       "0            93         95  100500000.0  550000.0   27        169         67   \n",
       "1            92         92   79000000.0  375000.0   29        185         80   \n",
       "2            90         90   54500000.0  275000.0   30        180         80   \n",
       "3            90         90   52500000.0  275000.0   32        195         95   \n",
       "4            90         90   63500000.0  300000.0   28        193         92   \n",
       "...         ...        ...          ...       ...  ...        ...        ...   \n",
       "142074       47         52      70000.0    1000.0   22        180         64   \n",
       "142075       47         59     110000.0     500.0   19        175         70   \n",
       "142076       47         55     100000.0     500.0   21        178         72   \n",
       "142077       47         60     110000.0     500.0   19        173         66   \n",
       "142078       47         60     110000.0     500.0   19        167         61   \n",
       "\n",
       "                  club_name                     league_name  league_level  \\\n",
       "0              FC Barcelona          Spain Primera Division           1.0   \n",
       "1            Real Madrid CF          Spain Primera Division           1.0   \n",
       "2         FC Bayern München            German 1. Bundesliga           1.0   \n",
       "3       Paris Saint-Germain                  French Ligue 1           1.0   \n",
       "4         FC Bayern München            German 1. Bundesliga           1.0   \n",
       "...                     ...                             ...           ...   \n",
       "142074             Wuhan FC            Chinese Super League           1.0   \n",
       "142075           Derry City  Rep. Ireland Airtricity League           1.0   \n",
       "142076           Finn Harps  Rep. Ireland Airtricity League           1.0   \n",
       "142077           Finn Harps  Rep. Ireland Airtricity League           1.0   \n",
       "142078  NorthEast United FC             Indian Super League           1.0   \n",
       "\n",
       "        ... cdm  rdm  rwb  lb lcb  cb  rcb  rb  gk loyality  \n",
       "0       ...  62   62   62  54  45  45   45  54  15     14.0  \n",
       "1       ...  63   63   63  57  52  52   52  57  16      9.0  \n",
       "2       ...  64   64   64  55  46  46   46  55  14      8.0  \n",
       "3       ...  65   65   61  56  55  55   55  56  17      4.0  \n",
       "4       ...  40   40   36  36  38  38   38  36  87      8.0  \n",
       "...     ...  ..  ...  ...  ..  ..  ..  ...  ..  ..      ...  \n",
       "142074  ...  46   46   48  48  46  46   46  48  15      0.0  \n",
       "142075  ...  46   46   49  48  44  44   44  48  14      0.0  \n",
       "142076  ...  46   46   47  47  45  45   45  47  12      0.0  \n",
       "142077  ...  29   29   33  32  26  26   26  32  15      0.0  \n",
       "142078  ...  44   44   45  45  41  41   41  45  16      4.0  \n",
       "\n",
       "[131489 rows x 90 columns]"
      ]
     },
     "execution_count": 107,
     "metadata": {},
     "output_type": "execute_result"
    }
   ],
   "source": [
    "df"
   ]
  },
  {
   "cell_type": "code",
   "execution_count": 108,
   "metadata": {},
   "outputs": [
    {
     "name": "stdout",
     "output_type": "stream",
     "text": [
      "<class 'pandas.core.frame.DataFrame'>\n",
      "Int64Index: 131489 entries, 0 to 142078\n",
      "Data columns (total 6 columns):\n",
      " #   Column            Non-Null Count   Dtype \n",
      "---  ------            --------------   ----- \n",
      " 0   club_name         131489 non-null  object\n",
      " 1   league_name       131489 non-null  object\n",
      " 2   club_position     131489 non-null  object\n",
      " 3   nationality_name  131489 non-null  object\n",
      " 4   preferred_foot    131489 non-null  object\n",
      " 5   work_rate         131489 non-null  object\n",
      "dtypes: object(6)\n",
      "memory usage: 7.0+ MB\n"
     ]
    }
   ],
   "source": [
    "df.select_dtypes(\"O\").info()"
   ]
  },
  {
   "cell_type": "code",
   "execution_count": 109,
   "metadata": {},
   "outputs": [
    {
     "data": {
      "text/plain": [
       "9"
      ]
     },
     "execution_count": 109,
     "metadata": {},
     "output_type": "execute_result"
    }
   ],
   "source": [
    "df.work_rate.nunique()"
   ]
  },
  {
   "cell_type": "code",
   "execution_count": 110,
   "metadata": {},
   "outputs": [],
   "source": [
    "df.drop('club_name' , axis = 1 , inplace= True)"
   ]
  },
  {
   "attachments": {},
   "cell_type": "markdown",
   "metadata": {},
   "source": [
    "# Handle categorical data "
   ]
  },
  {
   "cell_type": "code",
   "execution_count": 111,
   "metadata": {},
   "outputs": [],
   "source": [
    "df = pd.get_dummies(columns= ['preferred_foot' ] , data = df)"
   ]
  },
  {
   "cell_type": "code",
   "execution_count": 112,
   "metadata": {},
   "outputs": [],
   "source": [
    "encoder = BinaryEncoder(cols=[ 'league_name', 'club_position' , 'nationality_name' , 'work_rate'])"
   ]
  },
  {
   "cell_type": "code",
   "execution_count": 113,
   "metadata": {},
   "outputs": [],
   "source": [
    "df=encoder.fit_transform(df)"
   ]
  },
  {
   "cell_type": "code",
   "execution_count": 114,
   "metadata": {},
   "outputs": [
    {
     "data": {
      "text/html": [
       "<div>\n",
       "<style scoped>\n",
       "    .dataframe tbody tr th:only-of-type {\n",
       "        vertical-align: middle;\n",
       "    }\n",
       "\n",
       "    .dataframe tbody tr th {\n",
       "        vertical-align: top;\n",
       "    }\n",
       "\n",
       "    .dataframe thead th {\n",
       "        text-align: right;\n",
       "    }\n",
       "</style>\n",
       "<table border=\"1\" class=\"dataframe\">\n",
       "  <thead>\n",
       "    <tr style=\"text-align: right;\">\n",
       "      <th></th>\n",
       "      <th>overall</th>\n",
       "      <th>potential</th>\n",
       "      <th>value_eur</th>\n",
       "      <th>wage_eur</th>\n",
       "      <th>age</th>\n",
       "      <th>height_cm</th>\n",
       "      <th>weight_kg</th>\n",
       "      <th>league_name_0</th>\n",
       "      <th>league_name_1</th>\n",
       "      <th>league_name_2</th>\n",
       "      <th>...</th>\n",
       "      <th>rwb</th>\n",
       "      <th>lb</th>\n",
       "      <th>lcb</th>\n",
       "      <th>cb</th>\n",
       "      <th>rcb</th>\n",
       "      <th>rb</th>\n",
       "      <th>gk</th>\n",
       "      <th>loyality</th>\n",
       "      <th>preferred_foot_Left</th>\n",
       "      <th>preferred_foot_Right</th>\n",
       "    </tr>\n",
       "  </thead>\n",
       "  <tbody>\n",
       "    <tr>\n",
       "      <th>142074</th>\n",
       "      <td>47</td>\n",
       "      <td>52</td>\n",
       "      <td>70000.0</td>\n",
       "      <td>1000.0</td>\n",
       "      <td>22</td>\n",
       "      <td>180</td>\n",
       "      <td>64</td>\n",
       "      <td>1</td>\n",
       "      <td>0</td>\n",
       "      <td>1</td>\n",
       "      <td>...</td>\n",
       "      <td>48</td>\n",
       "      <td>48</td>\n",
       "      <td>46</td>\n",
       "      <td>46</td>\n",
       "      <td>46</td>\n",
       "      <td>48</td>\n",
       "      <td>15</td>\n",
       "      <td>0.0</td>\n",
       "      <td>0</td>\n",
       "      <td>1</td>\n",
       "    </tr>\n",
       "    <tr>\n",
       "      <th>142075</th>\n",
       "      <td>47</td>\n",
       "      <td>59</td>\n",
       "      <td>110000.0</td>\n",
       "      <td>500.0</td>\n",
       "      <td>19</td>\n",
       "      <td>175</td>\n",
       "      <td>70</td>\n",
       "      <td>1</td>\n",
       "      <td>0</td>\n",
       "      <td>0</td>\n",
       "      <td>...</td>\n",
       "      <td>49</td>\n",
       "      <td>48</td>\n",
       "      <td>44</td>\n",
       "      <td>44</td>\n",
       "      <td>44</td>\n",
       "      <td>48</td>\n",
       "      <td>14</td>\n",
       "      <td>0.0</td>\n",
       "      <td>0</td>\n",
       "      <td>1</td>\n",
       "    </tr>\n",
       "    <tr>\n",
       "      <th>142076</th>\n",
       "      <td>47</td>\n",
       "      <td>55</td>\n",
       "      <td>100000.0</td>\n",
       "      <td>500.0</td>\n",
       "      <td>21</td>\n",
       "      <td>178</td>\n",
       "      <td>72</td>\n",
       "      <td>1</td>\n",
       "      <td>0</td>\n",
       "      <td>0</td>\n",
       "      <td>...</td>\n",
       "      <td>47</td>\n",
       "      <td>47</td>\n",
       "      <td>45</td>\n",
       "      <td>45</td>\n",
       "      <td>45</td>\n",
       "      <td>47</td>\n",
       "      <td>12</td>\n",
       "      <td>0.0</td>\n",
       "      <td>0</td>\n",
       "      <td>1</td>\n",
       "    </tr>\n",
       "    <tr>\n",
       "      <th>142077</th>\n",
       "      <td>47</td>\n",
       "      <td>60</td>\n",
       "      <td>110000.0</td>\n",
       "      <td>500.0</td>\n",
       "      <td>19</td>\n",
       "      <td>173</td>\n",
       "      <td>66</td>\n",
       "      <td>1</td>\n",
       "      <td>0</td>\n",
       "      <td>0</td>\n",
       "      <td>...</td>\n",
       "      <td>33</td>\n",
       "      <td>32</td>\n",
       "      <td>26</td>\n",
       "      <td>26</td>\n",
       "      <td>26</td>\n",
       "      <td>32</td>\n",
       "      <td>15</td>\n",
       "      <td>0.0</td>\n",
       "      <td>0</td>\n",
       "      <td>1</td>\n",
       "    </tr>\n",
       "    <tr>\n",
       "      <th>142078</th>\n",
       "      <td>47</td>\n",
       "      <td>60</td>\n",
       "      <td>110000.0</td>\n",
       "      <td>500.0</td>\n",
       "      <td>19</td>\n",
       "      <td>167</td>\n",
       "      <td>61</td>\n",
       "      <td>1</td>\n",
       "      <td>1</td>\n",
       "      <td>0</td>\n",
       "      <td>...</td>\n",
       "      <td>45</td>\n",
       "      <td>45</td>\n",
       "      <td>41</td>\n",
       "      <td>41</td>\n",
       "      <td>41</td>\n",
       "      <td>45</td>\n",
       "      <td>16</td>\n",
       "      <td>4.0</td>\n",
       "      <td>0</td>\n",
       "      <td>1</td>\n",
       "    </tr>\n",
       "  </tbody>\n",
       "</table>\n",
       "<p>5 rows × 109 columns</p>\n",
       "</div>"
      ],
      "text/plain": [
       "        overall  potential  value_eur  wage_eur  age  height_cm  weight_kg  \\\n",
       "142074       47         52    70000.0    1000.0   22        180         64   \n",
       "142075       47         59   110000.0     500.0   19        175         70   \n",
       "142076       47         55   100000.0     500.0   21        178         72   \n",
       "142077       47         60   110000.0     500.0   19        173         66   \n",
       "142078       47         60   110000.0     500.0   19        167         61   \n",
       "\n",
       "        league_name_0  league_name_1  league_name_2  ...  rwb  lb  lcb  cb  \\\n",
       "142074              1              0              1  ...   48  48   46  46   \n",
       "142075              1              0              0  ...   49  48   44  44   \n",
       "142076              1              0              0  ...   47  47   45  45   \n",
       "142077              1              0              0  ...   33  32   26  26   \n",
       "142078              1              1              0  ...   45  45   41  41   \n",
       "\n",
       "        rcb  rb  gk  loyality  preferred_foot_Left  preferred_foot_Right  \n",
       "142074   46  48  15       0.0                    0                     1  \n",
       "142075   44  48  14       0.0                    0                     1  \n",
       "142076   45  47  12       0.0                    0                     1  \n",
       "142077   26  32  15       0.0                    0                     1  \n",
       "142078   41  45  16       4.0                    0                     1  \n",
       "\n",
       "[5 rows x 109 columns]"
      ]
     },
     "execution_count": 114,
     "metadata": {},
     "output_type": "execute_result"
    }
   ],
   "source": [
    "df.tail()"
   ]
  },
  {
   "attachments": {},
   "cell_type": "markdown",
   "metadata": {},
   "source": [
    "## Scaling data "
   ]
  },
  {
   "cell_type": "code",
   "execution_count": 115,
   "metadata": {},
   "outputs": [],
   "source": [
    "scaler = MinMaxScaler()"
   ]
  },
  {
   "cell_type": "code",
   "execution_count": 116,
   "metadata": {},
   "outputs": [],
   "source": [
    "numerical_cols = list(df.select_dtypes(include=['int64', 'float64','int32']).columns)"
   ]
  },
  {
   "cell_type": "code",
   "execution_count": 117,
   "metadata": {},
   "outputs": [],
   "source": [
    "numerical_cols.remove(\"value_eur\")"
   ]
  },
  {
   "cell_type": "code",
   "execution_count": 118,
   "metadata": {},
   "outputs": [],
   "source": [
    "df[numerical_cols] = scaler.fit_transform(df[numerical_cols])"
   ]
  },
  {
   "attachments": {},
   "cell_type": "markdown",
   "metadata": {},
   "source": [
    "## split data"
   ]
  },
  {
   "cell_type": "code",
   "execution_count": 119,
   "metadata": {},
   "outputs": [],
   "source": [
    "x= df.drop('value_eur' , axis = 1 )"
   ]
  },
  {
   "cell_type": "code",
   "execution_count": 120,
   "metadata": {},
   "outputs": [],
   "source": [
    "y = df['value_eur']"
   ]
  },
  {
   "cell_type": "code",
   "execution_count": 121,
   "metadata": {},
   "outputs": [],
   "source": [
    "x_train, x_test, y_train, y_test = train_test_split(x, y, test_size=0.2, random_state=42)"
   ]
  },
  {
   "cell_type": "code",
   "execution_count": 122,
   "metadata": {},
   "outputs": [
    {
     "name": "stdout",
     "output_type": "stream",
     "text": [
      "Training Score:  0.8952386911034326\n",
      "Testing Score:  0.8874237295948672\n"
     ]
    },
    {
     "ename": "NameError",
     "evalue": "name 'np' is not defined",
     "output_type": "error",
     "traceback": [
      "\u001b[1;31m---------------------------------------------------------------------------\u001b[0m",
      "\u001b[1;31mNameError\u001b[0m                                 Traceback (most recent call last)",
      "Cell \u001b[1;32mIn[122], line 6\u001b[0m\n\u001b[0;32m      4\u001b[0m \u001b[39mprint\u001b[39m(\u001b[39m'\u001b[39m\u001b[39mTraining Score: \u001b[39m\u001b[39m'\u001b[39m, lr\u001b[39m.\u001b[39mscore(x_train, y_train))\n\u001b[0;32m      5\u001b[0m \u001b[39mprint\u001b[39m(\u001b[39m'\u001b[39m\u001b[39mTesting Score: \u001b[39m\u001b[39m'\u001b[39m, lr\u001b[39m.\u001b[39mscore(x_test, y_test))\n\u001b[1;32m----> 6\u001b[0m \u001b[39mprint\u001b[39m(\u001b[39m'\u001b[39m\u001b[39mRMSE: \u001b[39m\u001b[39m'\u001b[39m, np\u001b[39m.\u001b[39msqrt(mean_squared_error(y_test, lr\u001b[39m.\u001b[39mpredict(x_test))))\n",
      "\u001b[1;31mNameError\u001b[0m: name 'np' is not defined"
     ]
    }
   ],
   "source": [
    "lr = LinearRegression()\n",
    "lr.fit(x_train, y_train)\n",
    "\n",
    "print('Training Score: ', lr.score(x_train, y_train))\n",
    "print('Testing Score: ', lr.score(x_test, y_test))\n",
    "print('RMSE: ', np.sqrt(mean_squared_error(y_test, lr.predict(x_test))))"
   ]
  },
  {
   "cell_type": "code",
   "execution_count": null,
   "metadata": {},
   "outputs": [
    {
     "name": "stdout",
     "output_type": "stream",
     "text": [
      "Training Score:  0.9948328612917289\n",
      "Testing Score:  0.9616248737867253\n",
      "RMSE:  1122068.0764198108\n"
     ]
    }
   ],
   "source": [
    "from sklearn.ensemble import RandomForestRegressor\n",
    "\n",
    "rf = RandomForestRegressor(n_estimators=100, random_state=42)\n",
    "\n",
    "rf.fit(x_train, y_train)\n",
    "\n",
    "print('Training Score: ', rf.score(x_train, y_train))\n",
    "print('Testing Score: ', rf.score(x_test, y_test))\n",
    "print('RMSE: ', np.sqrt(mean_squared_error(y_test, rf.predict(x_test))))"
   ]
  },
  {
   "cell_type": "code",
   "execution_count": null,
   "metadata": {},
   "outputs": [],
   "source": []
  },
  {
   "cell_type": "code",
   "execution_count": null,
   "metadata": {},
   "outputs": [],
   "source": []
  },
  {
   "cell_type": "code",
   "execution_count": null,
   "metadata": {},
   "outputs": [],
   "source": []
  },
  {
   "cell_type": "code",
   "execution_count": null,
   "metadata": {},
   "outputs": [],
   "source": []
  },
  {
   "cell_type": "code",
   "execution_count": null,
   "metadata": {},
   "outputs": [],
   "source": []
  },
  {
   "cell_type": "code",
   "execution_count": null,
   "metadata": {},
   "outputs": [],
   "source": []
  },
  {
   "cell_type": "code",
   "execution_count": null,
   "metadata": {},
   "outputs": [],
   "source": []
  }
 ],
 "metadata": {
  "kernelspec": {
   "display_name": "Python 3",
   "language": "python",
   "name": "python3"
  },
  "language_info": {
   "codemirror_mode": {
    "name": "ipython",
    "version": 3
   },
   "file_extension": ".py",
   "mimetype": "text/x-python",
   "name": "python",
   "nbconvert_exporter": "python",
   "pygments_lexer": "ipython3",
   "version": "3.11.1"
  },
  "orig_nbformat": 4,
  "vscode": {
   "interpreter": {
    "hash": "5238573367df39f7286bb46f9ff5f08f63a01a80960060ce41e3c79b190280fa"
   }
  }
 },
 "nbformat": 4,
 "nbformat_minor": 2
}
